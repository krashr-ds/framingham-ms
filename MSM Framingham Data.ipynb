{
 "cells": [
  {
   "cell_type": "markdown",
   "id": "9c7aee46",
   "metadata": {},
   "source": [
    "## A Markov Multi-State Model using the Framingham Data\n",
    "\n",
    "Building a Markov Multi-State Model using the Reshaped Framingham Data.\n",
    "\n",
    "The framingham_ms Dataset I created contains 10,132 state observations, defined as:\n",
    "\n",
    "- state 1: No Disease\n",
    "- state 2: Hypertension\n",
    "- state 3: Cardiovascular disease\n",
    "- state 4: Death\n",
    "- state 99: Censored\n",
    "\n",
    "The Framingham data was reshaped using Python 3 in a notebook entitled FraminghamReshaping.ipynb\n",
    "\n",
    "Citation: \n",
    "Jackson CH (2011). “Multi-State Models for Panel Data: The msm Package for R.” Journal of Statistical Software, 38(8), 1–29. doi:10.18637/jss.v038.i08.\n",
    "\n",
    "Kyle P. Rasku MS BSN RN"
   ]
  },
  {
   "cell_type": "code",
   "execution_count": null,
   "id": "953d677f",
   "metadata": {},
   "outputs": [],
   "source": [
    "library(\"msm\")\n",
    "frmghm_ms <- read.csv(\"Datasets/framingham_ms.csv\", header = TRUE, sep = \",\") \n",
    "frmghm_ms"
   ]
  },
  {
   "cell_type": "markdown",
   "id": "a33a2406",
   "metadata": {},
   "source": [
    "## Define states and transitions allowed for model\n",
    "\n",
    "Provide initial values representing a guess that there is an equal probability of progression, recovery or death (qrr = - SUM where s ne r of qrs).  \n",
    "\n",
    "Or, supply the option \"gen.inits=TRUE\" in the msm function call.  This sets the initial values for non-zero entries of the Q matrix (transition intensity matrix) to the maximum likelihood estimates under the assumption that transitions take place only at observation times.\n",
    "\n",
    "For transparency, I show the state table and MLE estimated Q matrix, and then set that to the qmatrix arg. given to msm."
   ]
  },
  {
   "cell_type": "code",
   "execution_count": null,
   "id": "5d02f4c9",
   "metadata": {},
   "outputs": [],
   "source": [
    "twoway4.q <- rbind(c(0, 0.166, 0.166, 0.166), c(0, 0, 0.25, 0.25), c(0, 0, 0, 0.50), c(0,0,0,0))\n",
    "statetable.msm(STATE, RANDID, data=frmghm_ms)\n",
    "Q = crudeinits.msm(STATE ~ YEARS, RANDID, data=frmghm_ms, censor = 99, censor.states = c(1,2,3), qmatrix=twoway4.q)\n",
    "Q"
   ]
  },
  {
   "cell_type": "code",
   "execution_count": null,
   "id": "46b244d4",
   "metadata": {},
   "outputs": [],
   "source": [
    "# Each initial transition block must add up to -qrr (0.5) based on the assumption\n",
    "# In state 1 there are 3 possible transitions - to hypertension (2), to cvd (3), or death (4)\n",
    "# In state 2 there are 2 possible transitions - to cvd (3), or death (4)\n",
    "# In state 3 there are 2 possible transition - to hypertension (2), or death (4)\n",
    "# In state 4 there are no further transitions possible (obviously)\n",
    "\n",
    "\n",
    "rownames(Q) <- colnames(Q) <- c(\"Well\", \"Hypertensive\", \"CVD\", \"Death\")"
   ]
  },
  {
   "cell_type": "code",
   "execution_count": null,
   "id": "de419ea2",
   "metadata": {},
   "outputs": [],
   "source": [
    "frm.msm <- msm(STATE ~ YEARS, subject = RANDID, data = frmghm_ms, qmatrix = Q, censor = 99, \n",
    "               censor.states = c(1,2,3), exacttimes=TRUE)"
   ]
  },
  {
   "cell_type": "code",
   "execution_count": null,
   "id": "a69aea19",
   "metadata": {},
   "outputs": [],
   "source": [
    "frm.msm"
   ]
  },
  {
   "cell_type": "markdown",
   "id": "8bb99690",
   "metadata": {},
   "source": [
    "## Interpreting the Transition Intensities\n",
    "\n",
    "- Mean time in the Well state: 1/0.048348 = 20.7 years\n",
    "- Mean time in the Hypertensive state: 1/0.021638 = 46.2 years\n",
    "- Mean time in the CVD state: 1/0.150787 = 6.6 years\n",
    "\n",
    "\n",
    "- From the Well state, the likelihood of transition to Hypertensive is: 0.026774 (2.7%)\n",
    "- From the Well state, the likelihood of transition to CVD is: 0.009887 (1%)\n",
    "- From the Well state, the likelihood of transition to Death is 0.011687 (1.2%)\n",
    "\n",
    "\n",
    "- From the Hypertensive state, the likelihood of transition to CVD is: 0.011434 (1.1%)\n",
    "- From the Hypertensive state, the likelihood of transition to Death is: 0.010204 (1%)\n",
    "\n",
    "\n",
    "- From the CVD state, the likelihood of transition to Death is: 0.150787 **(15%)**"
   ]
  },
  {
   "cell_type": "code",
   "execution_count": null,
   "id": "e5536a99",
   "metadata": {},
   "outputs": [],
   "source": [
    "# Display the Transition Probability Matrix, P(t) over an interval of t=1 (in this case, 1 year)\n",
    "# ci = \"normal\" computes a confidence interval for P(t) by repeated sampling from the asymptotic \n",
    "# normal distribution of the maximum likelihood estimates of the log(qrs)\n",
    "# Based on a default 1000 samples, converged to within 2 significant figures\n",
    "\n",
    "# NOTE:\n",
    "# ci = \"boot\" would instead compute intervals using nonparametric bootstrap resampling, drawn with replacement\n",
    "# the model is refitted repeatedly to estimate the sampling uncertainty surrounding the estimates \n",
    "# more accurate, but slower\n",
    "\n",
    "pmatrix.msm(frm.msm, t = 1, ci = \"normal\")"
   ]
  },
  {
   "cell_type": "markdown",
   "id": "b3e32a2e",
   "metadata": {},
   "source": [
    "## Transition Probabilities\n",
    "\n",
    "- The probability of being Well 1 year from now, given Well is 95%\n",
    "- The probability of being Hypertensive 1 year from now, given Well is 2.6%\n",
    "- The probability of being CVD 1 year from now, given Well is 1%\n",
    "- The probability of being Dead 1 year from now, given Well is 1.2%\n",
    "\n",
    "\n",
    "- The probability of being Hypertensive 1 year from now, given Hypertensive is 98%\n",
    "- The probability of being CVD 1 year from now, given Hypertensive is 1%\n",
    "- The probability of being Dead 1 year from now, given Hypertensive is 1%\n",
    "\n",
    "\n",
    "- The probability of being CVD 1 year from now, given CVD is 86%\n",
    "- The probability of being Dead 1 year from now, given CVD is 14%"
   ]
  },
  {
   "cell_type": "code",
   "execution_count": null,
   "id": "72e3372c",
   "metadata": {},
   "outputs": [],
   "source": [
    "# A model with covariates: sex, age, diabetes (yes or no) and smoker (yes or no)\n",
    "\n",
    "frm.cov.msm <- msm(STATE ~ YEARS, subject = RANDID, data = frmghm_ms, covariates = ~ AGE + SEX + DIABETES + CURSMOKE, \n",
    "                   qmatrix = Q, method = \"BFGS\", exacttimes = TRUE, censor = 99, \n",
    "                   censor.states = c(1,2,3), control = list(fnscale=30000, maxit=10000))"
   ]
  },
  {
   "cell_type": "code",
   "execution_count": null,
   "id": "390248c5",
   "metadata": {},
   "outputs": [],
   "source": [
    "# Display hazard ratios for each covariate on each transition with 95% confidence intervals\n",
    "hazard.msm(frm.cov.msm)"
   ]
  },
  {
   "cell_type": "markdown",
   "id": "0e2678bf",
   "metadata": {},
   "source": [
    "## Interpreting the (significant) Hazard Ratios\n",
    "\n",
    "\n",
    "- 1 year increase in age is associated with a 5% increased risk of CVD onset (Well -> CVD)\n",
    "- 1 year increase in age is associated with a 8% increased risk of Death (on average) (Well -> Death)\n",
    "- 1 year increase in age is associated with a 3.2% increased risk of CVD onset, if Hypertensive (HTN -> CVD)\n",
    "- 1 year increase in age is associated with a 4.4% increased risk of Death, if Hypertensive (HTN -> Death)\n",
    "- 1 year increase in age is associated with a 5.8% increased risk of Death, if CVD (CVD -> Death)\n",
    "\n",
    "\n",
    "- Being Female increases the risk of Hypertension onset (Well -> HTN) by 39% on average.\n",
    "- Being Female decreases the risk of CVD onset (Well -> CVD) by 51% on average.\n",
    "- Being Female decreases the risk of Death (Well -> Death) by 19% on average.\n",
    "- Being Female decreases the risk of CVD, given HTN (HTN -> CVD) by 45% on average.\n",
    "- Being Female decreases the risk of Death, given HTN (HTN -> Death) by 33% on average.\n",
    "\n",
    "\n",
    "- An initial diagnosis of Diabetes increases the risk of CVD onset (Well -> CVD) by an avg. of **170%**\n",
    "- An initial diagnosis of Diabetes increases the risk of CVD onset, if Hypertensive (HTN -> CVD) by an avg. of **187%**\n",
    "- An initial diagnosis of Diabetes increases the risk of Death for those who already have HTN by 103%.\n",
    "- An initial diagnosis of Diabetes increases the risk of Death for those who already have CVD by 57%.\n",
    "\n",
    "\n",
    "- Being a smoker is associated with a 27% lower risk of becoming Hypertensive if Well (these are younger people).\n",
    "- Being a smoker is associated with a 26% increased risk of CVD, if Well.\n",
    "- Being a smoker is associated with a 39% increased risk of Dying, if Well.\n",
    "- Being a smoker is associated with a 29% increased risk of CVD, if Hypertensive.\n",
    "- Being a smoker is associated with a 25% increased risk of Death, if CVD.\n"
   ]
  },
  {
   "cell_type": "code",
   "execution_count": null,
   "id": "dd229259",
   "metadata": {},
   "outputs": [],
   "source": [
    "# Calculating the Transition Intensity Matrix for specified covariates\n",
    "# Age: 40, Primary Diagnosis: Diabetes & Smoker\n",
    "# Note: Avg age is 50\n",
    "\n",
    "qmatrix.msm(frm.cov.msm, covariates = list(AGE = 40, DIABETES = 1, CURSMOKE = 1))\n"
   ]
  },
  {
   "cell_type": "markdown",
   "id": "7ecdae13",
   "metadata": {},
   "source": [
    "#### Comparing this patient to the average patient\n",
    "\n",
    "- Average patient's likelihood of transition from Well -> HTN 0.026774 (2.7%), for this patient it is **9.7%**\n",
    "- Average patient's likelihood of transition from Well -> CVD 0.009887 (1%), for this patient it is **5.3%**\n",
    "- Average patient's likelihood of transition from HTN -> CVD 0.011434 (1.1%), for this patient it is **5.9%**\n",
    "- Average patient's likelihood of transition from CVD -> Death 0.150787 (15%), for this patient it is **6.6%**\n",
    "\n",
    "\n",
    "- Average patient's mean time in Well state 20.7 yrs, this patient **13.4 yrs**\n",
    "- Average patient's mean time in Hypertensive state 46.2 yrs, this patient **12.3 yrs**\n",
    "- Average patient's mean time in CVD state 6.6 yrs, this patient **15.2 yrs**"
   ]
  },
  {
   "cell_type": "code",
   "execution_count": null,
   "id": "efccbd7c",
   "metadata": {},
   "outputs": [],
   "source": [
    "# Does the model with covariates fit significantly better than the one without? \n",
    "# Compare the likelihood ratio statistic to Chi-square distribution with 24 degrees of freedom\n",
    "\n",
    "lrtest.msm(frm.msm, frm.cov.msm)"
   ]
  },
  {
   "cell_type": "markdown",
   "id": "0d0f57a6",
   "metadata": {},
   "source": [
    "The p-value is highly significant."
   ]
  },
  {
   "cell_type": "markdown",
   "id": "f345d671",
   "metadata": {},
   "source": [
    "## When Q is piecewise-constant\n",
    "\n",
    "Transition probabilities can be calculated in closed form by summing the likelihood over the unknown observed state at the times when the covariates change."
   ]
  },
  {
   "cell_type": "code",
   "execution_count": null,
   "id": "9e8a598c",
   "metadata": {},
   "outputs": [],
   "source": [
    "# Fitting a model where all intensities change 12 years after the beginning of the study\n",
    "# Divides data into 2 time periods: -Inf to 12 yrs, and 12 yrs to Inf\n",
    "# The study lasted a little more than 24 years, so this is about the halfway point\n",
    "\n",
    "frm.pci.msm <- msm(STATE ~ YEARS, subject = RANDID, data = frmghm_ms, qmatrix = Q, \n",
    "                   pci = 12, method = \"BFGS\", exacttimes = TRUE,\n",
    "                   censor = 99, censor.states = c(1, 2, 3), \n",
    "                   control = list(fnscale=30000, maxit=10000))\n",
    "\n",
    "# Is this data truly time-inhomogenous?\n",
    "lrtest.msm(frm.msm, frm.pci.msm)"
   ]
  },
  {
   "cell_type": "markdown",
   "id": "fde3bcab",
   "metadata": {},
   "source": [
    "It is very likely that the data is time-inhomogenous."
   ]
  },
  {
   "cell_type": "code",
   "execution_count": null,
   "id": "126de076",
   "metadata": {
    "scrolled": true
   },
   "outputs": [],
   "source": [
    "hazard.msm(frm.pci.msm)"
   ]
  },
  {
   "cell_type": "markdown",
   "id": "090350dc",
   "metadata": {},
   "source": [
    "## Diagnostic Plots\n",
    "\n",
    "Comparing model predictions with Kaplan-Meier curves"
   ]
  },
  {
   "cell_type": "code",
   "execution_count": null,
   "id": "9fb1659f",
   "metadata": {},
   "outputs": [],
   "source": [
    "par(mfrow = c(2, 2))\n",
    "plot.survfit.msm(frm.msm, main = \"frm.msm: no covariates\", mark.time = FALSE, legend.pos=c(0,0))\n",
    "plot.survfit.msm(frm.cov.msm, main = \"frm.cov.msm: covariates\", mark.time = FALSE, legend.pos=c(0,0))\n",
    "plot.survfit.msm(frm.pci.msm, mark.time = FALSE, legend.pos=c(0,0))\n",
    "title(\"frm.pci.msm: time-inhomogeneous\", line = 2)\n",
    "title(\"(12 year change point)\", line = 1)\n",
    "frm.pci2.msm <- msm(STATE ~ YEARS, subject = RANDID, data = frmghm_ms, qmatrix = Q, \n",
    "                    pci = c(6,12,18), method = \"BFGS\", exacttimes = TRUE,\n",
    "                    censor = 99, censor.states=c(1, 2, 3), \n",
    "                    control = list(fnscale=30000, maxit=10000))\n",
    "plot.survfit.msm(frm.pci2.msm, mark.time = FALSE, legend.pos=c(0,0))\n",
    "title(\"frm.pci2.msm: time-inhomogeneous\", line = 2)\n",
    "title(\"(6, 12 and 18 year change points)\", line = 1)"
   ]
  },
  {
   "cell_type": "markdown",
   "id": "8e3eb251",
   "metadata": {},
   "source": [
    "The fit is much improved after adding censoring!  \n",
    "\n",
    "Adding additional time-change points doesn't appear to help the fit, but covariates likely do, although the differences between the first two graphs are not readily apparent, the differences in the model fits are."
   ]
  },
  {
   "cell_type": "markdown",
   "id": "7d5d9dab",
   "metadata": {},
   "source": [
    "## Comparing Observed and Expected Prevalence\n",
    "\n",
    "Works best when individuals are actually observed at the computed times, otherwise assumptions are made such as individuals are only observed at these times, or midpoints are assumed.\n",
    "\n",
    "The observed prevalence of a state is simply calculated as the number of individuals known to be in that state, divided by the number of individuals whose state is known at that time, which ignores the information from individuals censored at earlier times (root of Kaplan-Meier estimation :))"
   ]
  },
  {
   "cell_type": "code",
   "execution_count": null,
   "id": "52df4d72",
   "metadata": {},
   "outputs": [],
   "source": [
    "# Need to look at how this is implemented by Gentleman et al. 1994 using prevalence.msm, and plot.prevalence.msm"
   ]
  },
  {
   "cell_type": "markdown",
   "id": "4c40104b",
   "metadata": {},
   "source": [
    "## None of these models give an adequate fit\n",
    "\n",
    "A more complex pattern of time-dependence or allowing transition intensities to depend on covariates would likely yield a better fit.\n",
    "\n",
    "TO DO => Figure out how to allow transition intensities to depend on covariates!"
   ]
  },
  {
   "cell_type": "markdown",
   "id": "8dcd6daa",
   "metadata": {},
   "source": [
    "## It is also possible to calculate the influence of each individual on the MLE\n",
    "\n",
    "Using scoreresid.msm"
   ]
  },
  {
   "cell_type": "markdown",
   "id": "cb36a095",
   "metadata": {},
   "source": [
    "## Extensions of msm and limitations\n",
    "\n",
    "For continuously-observed processes: mstate (deWreede et al. 2010)\n",
    "\n",
    "For Random Effects models (unexplained heterogeneity in transition intensities between individuals) - calculating likelihood often intractable with a few exceptions: tracking model - random effect acts on all intensities simultaneously (Satten 1999), or a discrete random effects distribution (Cook et al 2004)"
   ]
  }
 ],
 "metadata": {
  "kernelspec": {
   "display_name": "R",
   "language": "python",
   "name": "ir"
  },
  "language_info": {
   "codemirror_mode": {
    "name": "ipython",
    "version": 3
   },
   "file_extension": ".py",
   "mimetype": "text/x-python",
   "name": "python",
   "nbconvert_exporter": "python",
   "pygments_lexer": "ipython3",
   "version": "3.9.13"
  },
  "vscode": {
   "interpreter": {
    "hash": "9c8922bfe61df1701f8222ca4684d7fdee1fb2d5e3db4ae7e40eaabee06296a3"
   }
  }
 },
 "nbformat": 4,
 "nbformat_minor": 5
}
