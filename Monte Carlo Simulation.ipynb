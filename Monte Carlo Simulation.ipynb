{
 "cells": [
  {
   "cell_type": "markdown",
   "metadata": {},
   "source": [
    "## Monte Carlo Simulations & Predictions\n",
    "\n",
    "Kyle P. Rasku RN BSN; \n",
    "July 2021\n",
    "\n",
    "Useful for: decision support, risk assessment, prediction models\n",
    "\n",
    "Allows: benefit / risk assessments for possible actions and outcomes based on probabilities\n",
    "\n",
    "Avoids: overfitting, hindsight bias"
   ]
  },
  {
   "cell_type": "code",
   "execution_count": 2,
   "metadata": {},
   "outputs": [],
   "source": [
    "import numpy\n",
    "import pandas\n",
    "import random"
   ]
  },
  {
   "cell_type": "markdown",
   "metadata": {},
   "source": [
    "Some functions to do some basic things:\n",
    "\n",
    "1. Flip a coin\n",
    "2. Flip n coins\n",
    "3. Roll a die\n",
    "4. Roll n dice\n",
    "5. Draw a card\n",
    "6. Draw n cards\n"
   ]
  },
  {
   "cell_type": "code",
   "execution_count": 9,
   "metadata": {},
   "outputs": [],
   "source": [
    "def flip_coin():\n",
    "    return random.randint(0, 1)\n",
    "\n",
    "def flip_coins(n):\n",
    "    flips = []\n",
    "    for f in range(n):\n",
    "        flips.append(flip_coin())\n",
    "    return flips\n",
    "\n",
    "def roll_die():\n",
    "    return random.randint(1, 6)\n",
    "\n",
    "def roll_dice(n):\n",
    "    rolls = []\n",
    "    for d in range(n):\n",
    "        rolls.append(roll_die())\n",
    "    return rolls\n",
    "\n",
    "# Assumption: cards & suits proceed in Bridge order:\n",
    "# Suits: Clubs, Diamonds, Spades, Hearts\n",
    "# Cards proceed in bridge order - 2, 3, 4, 5, 6, 7, 8, 9, 10, J, Q, K, A \n",
    "\n",
    "suits = {0: \"clubs\", 1: \"diamonds\", 2: \"spades\", 3: \"hearts\"}\n",
    "cards = {0:\"2\", 1:\"3\", 2:\"4\", 3:\"5\", 4:\"6\", 5:\"7\", 6:\"8\", 7:\"9\", 8:\"10\", 9:\"J\", 10:\"Q\", 11:\"K\", 12:\"A\"}\n",
    "    \n",
    "\n",
    "\n",
    "def draw_card():\n",
    "    suit = suits[random.randint(0,3)]\n",
    "    card = cards[random.randint(0,12)]\n",
    "    \n",
    "    return cards[card] + suits[suit]\n",
    "\n",
    "def draw_cards(n):\n",
    "    cards = []\n",
    "    for c in range(n):\n",
    "        cards.append(draw_card())\n",
    "    return cards\n",
    "\n"
   ]
  },
  {
   "cell_type": "code",
   "execution_count": 10,
   "metadata": {},
   "outputs": [
    {
     "ename": "KeyError",
     "evalue": "'2'",
     "output_type": "error",
     "traceback": [
      "\u001b[1;31m---------------------------------------------------------------------------\u001b[0m",
      "\u001b[1;31mKeyError\u001b[0m                                  Traceback (most recent call last)",
      "\u001b[1;32m<ipython-input-10-18e60cab3139>\u001b[0m in \u001b[0;36m<module>\u001b[1;34m\u001b[0m\n\u001b[1;32m----> 1\u001b[1;33m \u001b[0mprint\u001b[0m\u001b[1;33m(\u001b[0m\u001b[0mdraw_card\u001b[0m\u001b[1;33m(\u001b[0m\u001b[1;33m)\u001b[0m\u001b[1;33m)\u001b[0m\u001b[1;33m\u001b[0m\u001b[1;33m\u001b[0m\u001b[0m\n\u001b[0m",
      "\u001b[1;32m<ipython-input-9-6abeb7a5e9ae>\u001b[0m in \u001b[0;36mdraw_card\u001b[1;34m()\u001b[0m\n\u001b[0;32m     30\u001b[0m     \u001b[0mcard\u001b[0m \u001b[1;33m=\u001b[0m \u001b[0mcards\u001b[0m\u001b[1;33m[\u001b[0m\u001b[0mrandom\u001b[0m\u001b[1;33m.\u001b[0m\u001b[0mrandint\u001b[0m\u001b[1;33m(\u001b[0m\u001b[1;36m0\u001b[0m\u001b[1;33m,\u001b[0m\u001b[1;36m12\u001b[0m\u001b[1;33m)\u001b[0m\u001b[1;33m]\u001b[0m\u001b[1;33m\u001b[0m\u001b[1;33m\u001b[0m\u001b[0m\n\u001b[0;32m     31\u001b[0m \u001b[1;33m\u001b[0m\u001b[0m\n\u001b[1;32m---> 32\u001b[1;33m     \u001b[1;32mreturn\u001b[0m \u001b[0mcards\u001b[0m\u001b[1;33m[\u001b[0m\u001b[0mcard\u001b[0m\u001b[1;33m]\u001b[0m \u001b[1;33m+\u001b[0m \u001b[0msuits\u001b[0m\u001b[1;33m[\u001b[0m\u001b[0msuit\u001b[0m\u001b[1;33m]\u001b[0m\u001b[1;33m\u001b[0m\u001b[1;33m\u001b[0m\u001b[0m\n\u001b[0m\u001b[0;32m     33\u001b[0m \u001b[1;33m\u001b[0m\u001b[0m\n\u001b[0;32m     34\u001b[0m \u001b[1;32mdef\u001b[0m \u001b[0mdraw_cards\u001b[0m\u001b[1;33m(\u001b[0m\u001b[0mn\u001b[0m\u001b[1;33m)\u001b[0m\u001b[1;33m:\u001b[0m\u001b[1;33m\u001b[0m\u001b[1;33m\u001b[0m\u001b[0m\n",
      "\u001b[1;31mKeyError\u001b[0m: '2'"
     ]
    }
   ],
   "source": [
    "print(draw_card())"
   ]
  },
  {
   "cell_type": "code",
   "execution_count": null,
   "metadata": {},
   "outputs": [],
   "source": []
  }
 ],
 "metadata": {
  "kernelspec": {
   "display_name": "Python 3",
   "language": "python",
   "name": "python3"
  },
  "language_info": {
   "codemirror_mode": {
    "name": "ipython",
    "version": 3
   },
   "file_extension": ".py",
   "mimetype": "text/x-python",
   "name": "python",
   "nbconvert_exporter": "python",
   "pygments_lexer": "ipython3",
   "version": "3.8.5"
  }
 },
 "nbformat": 4,
 "nbformat_minor": 4
}
