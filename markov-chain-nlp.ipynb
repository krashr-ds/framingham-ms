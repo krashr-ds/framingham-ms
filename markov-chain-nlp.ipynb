{
 "cells": [
  {
   "cell_type": "markdown",
   "metadata": {},
   "source": [
    "**This code was written by: \n",
    "Sujan Dutta**\n",
    "\n",
    "Student at Kalyani Govt. Engineering College\n",
    "\n",
    "Chinsurah, West Bengal, India\n",
    "\n",
    "**aka: \"Normalized Nerd\"**\n",
    "http://bit.ly/normalizedNERD"
   ]
  },
  {
   "cell_type": "markdown",
   "metadata": {
    "papermill": {
     "duration": 0.013027,
     "end_time": "2020-11-25T06:32:34.646276",
     "exception": false,
     "start_time": "2020-11-25T06:32:34.633249",
     "status": "completed"
    },
    "tags": []
   },
   "source": [
    "## Importing tools"
   ]
  },
  {
   "cell_type": "code",
   "execution_count": 1,
   "metadata": {
    "_cell_guid": "b1076dfc-b9ad-4769-8c92-a6c4dae69d19",
    "_uuid": "8f2839f25d086af736a60e9eeb907d3b93b6e0e5",
    "execution": {
     "iopub.execute_input": "2020-11-25T06:32:34.679819Z",
     "iopub.status.busy": "2020-11-25T06:32:34.679055Z",
     "iopub.status.idle": "2020-11-25T06:32:36.522676Z",
     "shell.execute_reply": "2020-11-25T06:32:36.521941Z"
    },
    "papermill": {
     "duration": 1.863124,
     "end_time": "2020-11-25T06:32:36.522810",
     "exception": false,
     "start_time": "2020-11-25T06:32:34.659686",
     "status": "completed"
    },
    "tags": []
   },
   "outputs": [],
   "source": [
    "import numpy as np\n",
    "import pandas as pd\n",
    "import os\n",
    "import re\n",
    "import string\n",
    "from nltk.tokenize import word_tokenize\n",
    "from nltk.corpus import stopwords\n",
    "import random"
   ]
  },
  {
   "cell_type": "markdown",
   "metadata": {
    "papermill": {
     "duration": 0.013469,
     "end_time": "2020-11-25T06:32:36.550629",
     "exception": false,
     "start_time": "2020-11-25T06:32:36.537160",
     "status": "completed"
    },
    "tags": []
   },
   "source": [
    "## Reading every Sherlock Holmes adventure!"
   ]
  },
  {
   "cell_type": "code",
   "execution_count": 2,
   "metadata": {
    "execution": {
     "iopub.execute_input": "2020-11-25T06:32:36.592712Z",
     "iopub.status.busy": "2020-11-25T06:32:36.591797Z",
     "iopub.status.idle": "2020-11-25T06:32:37.036576Z",
     "shell.execute_reply": "2020-11-25T06:32:37.035811Z"
    },
    "papermill": {
     "duration": 0.47249,
     "end_time": "2020-11-25T06:32:37.036707",
     "exception": false,
     "start_time": "2020-11-25T06:32:36.564217",
     "status": "completed"
    },
    "tags": []
   },
   "outputs": [
    {
     "name": "stdout",
     "output_type": "stream",
     "text": [
      "number of lines =  215021\n"
     ]
    }
   ],
   "source": [
    "story_path = \"/kaggle/input/sherlock-holmes-stories/sherlock/sherlock/\"\n",
    "\n",
    "def read_all_stories(story_path):\n",
    "    txt = []\n",
    "    for _, _, files in os.walk(story_path):\n",
    "        for file in files:\n",
    "            with open(story_path+file) as f:\n",
    "                for line in f:\n",
    "                    line = line.strip()\n",
    "                    if line=='----------': break\n",
    "                    if line!='':txt.append(line)\n",
    "    return txt\n",
    "        \n",
    "stories = read_all_stories(story_path)\n",
    "print(\"number of lines = \", len(stories))"
   ]
  },
  {
   "cell_type": "markdown",
   "metadata": {
    "papermill": {
     "duration": 0.013801,
     "end_time": "2020-11-25T06:32:37.065221",
     "exception": false,
     "start_time": "2020-11-25T06:32:37.051420",
     "status": "completed"
    },
    "tags": []
   },
   "source": [
    "## Cleaning the text"
   ]
  },
  {
   "cell_type": "code",
   "execution_count": 3,
   "metadata": {
    "execution": {
     "iopub.execute_input": "2020-11-25T06:32:37.103246Z",
     "iopub.status.busy": "2020-11-25T06:32:37.102503Z",
     "iopub.status.idle": "2020-11-25T06:33:20.288100Z",
     "shell.execute_reply": "2020-11-25T06:33:20.288915Z"
    },
    "papermill": {
     "duration": 43.209558,
     "end_time": "2020-11-25T06:33:20.289125",
     "exception": false,
     "start_time": "2020-11-25T06:32:37.079567",
     "status": "completed"
    },
    "tags": []
   },
   "outputs": [
    {
     "name": "stdout",
     "output_type": "stream",
     "text": [
      "number of words =  2332247\n"
     ]
    }
   ],
   "source": [
    "def clean_txt(txt):\n",
    "    cleaned_txt = []\n",
    "    for line in txt:\n",
    "        line = line.lower()\n",
    "        line = re.sub(r\"[,.\\\"\\'!@#$%^&*(){}?/;`~:<>+=-\\\\]\", \"\", line)\n",
    "        tokens = word_tokenize(line)\n",
    "        words = [word for word in tokens if word.isalpha()]\n",
    "        cleaned_txt+=words\n",
    "    return cleaned_txt\n",
    "\n",
    "cleaned_stories = clean_txt(stories)\n",
    "print(\"number of words = \", len(cleaned_stories))"
   ]
  },
  {
   "cell_type": "markdown",
   "metadata": {
    "papermill": {
     "duration": 0.014325,
     "end_time": "2020-11-25T06:33:20.318770",
     "exception": false,
     "start_time": "2020-11-25T06:33:20.304445",
     "status": "completed"
    },
    "tags": []
   },
   "source": [
    "## Creating the Markov Model"
   ]
  },
  {
   "cell_type": "code",
   "execution_count": 4,
   "metadata": {
    "execution": {
     "iopub.execute_input": "2020-11-25T06:33:20.362368Z",
     "iopub.status.busy": "2020-11-25T06:33:20.361452Z",
     "iopub.status.idle": "2020-11-25T06:33:20.364871Z",
     "shell.execute_reply": "2020-11-25T06:33:20.364135Z"
    },
    "papermill": {
     "duration": 0.031699,
     "end_time": "2020-11-25T06:33:20.364992",
     "exception": false,
     "start_time": "2020-11-25T06:33:20.333293",
     "status": "completed"
    },
    "tags": []
   },
   "outputs": [],
   "source": [
    "def make_markov_model(cleaned_stories, n_gram=2):\n",
    "    markov_model = {}\n",
    "    for i in range(len(cleaned_stories)-n_gram-1):\n",
    "        curr_state, next_state = \"\", \"\"\n",
    "        for j in range(n_gram):\n",
    "            curr_state += cleaned_stories[i+j] + \" \"\n",
    "            next_state += cleaned_stories[i+j+n_gram] + \" \"\n",
    "        curr_state = curr_state[:-1]\n",
    "        next_state = next_state[:-1]\n",
    "        if curr_state not in markov_model:\n",
    "            markov_model[curr_state] = {}\n",
    "            markov_model[curr_state][next_state] = 1\n",
    "        else:\n",
    "            if next_state in markov_model[curr_state]:\n",
    "                markov_model[curr_state][next_state] += 1\n",
    "            else:\n",
    "                markov_model[curr_state][next_state] = 1\n",
    "    \n",
    "    # calculating transition probabilities\n",
    "    for curr_state, transition in markov_model.items():\n",
    "        total = sum(transition.values())\n",
    "        for state, count in transition.items():\n",
    "            markov_model[curr_state][state] = count/total\n",
    "        \n",
    "    return markov_model"
   ]
  },
  {
   "cell_type": "code",
   "execution_count": 5,
   "metadata": {
    "execution": {
     "iopub.execute_input": "2020-11-25T06:33:20.559411Z",
     "iopub.status.busy": "2020-11-25T06:33:20.533665Z",
     "iopub.status.idle": "2020-11-25T06:33:28.813035Z",
     "shell.execute_reply": "2020-11-25T06:33:28.812187Z"
    },
    "papermill": {
     "duration": 8.433005,
     "end_time": "2020-11-25T06:33:28.813164",
     "exception": false,
     "start_time": "2020-11-25T06:33:20.380159",
     "status": "completed"
    },
    "tags": []
   },
   "outputs": [],
   "source": [
    "markov_model = make_markov_model(cleaned_stories)"
   ]
  },
  {
   "cell_type": "code",
   "execution_count": 6,
   "metadata": {
    "execution": {
     "iopub.execute_input": "2020-11-25T06:33:28.850231Z",
     "iopub.status.busy": "2020-11-25T06:33:28.849185Z",
     "iopub.status.idle": "2020-11-25T06:33:28.853728Z",
     "shell.execute_reply": "2020-11-25T06:33:28.852853Z"
    },
    "papermill": {
     "duration": 0.025469,
     "end_time": "2020-11-25T06:33:28.853878",
     "exception": false,
     "start_time": "2020-11-25T06:33:28.828409",
     "status": "completed"
    },
    "tags": []
   },
   "outputs": [
    {
     "name": "stdout",
     "output_type": "stream",
     "text": [
      "number of states =  208715\n"
     ]
    }
   ],
   "source": [
    "print(\"number of states = \", len(markov_model.keys()))"
   ]
  },
  {
   "cell_type": "code",
   "execution_count": 7,
   "metadata": {
    "execution": {
     "iopub.execute_input": "2020-11-25T06:33:28.891766Z",
     "iopub.status.busy": "2020-11-25T06:33:28.890848Z",
     "iopub.status.idle": "2020-11-25T06:33:28.894326Z",
     "shell.execute_reply": "2020-11-25T06:33:28.894970Z"
    },
    "papermill": {
     "duration": 0.025345,
     "end_time": "2020-11-25T06:33:28.895122",
     "exception": false,
     "start_time": "2020-11-25T06:33:28.869777",
     "status": "completed"
    },
    "tags": []
   },
   "outputs": [
    {
     "name": "stdout",
     "output_type": "stream",
     "text": [
      "All possible transitions from 'the game' state: \n",
      "\n",
      "{'is hardly': 0.02702702702702703, 'worth it': 0.02702702702702703, 'you are': 0.02702702702702703, 'i am': 0.02702702702702703, 'is up': 0.06306306306306306, 'now count': 0.02702702702702703, 'your letter': 0.02702702702702703, 'for all': 0.06306306306306306, 'is afoot': 0.036036036036036036, 'my own': 0.02702702702702703, 'at any': 0.02702702702702703, 'mr holmes': 0.02702702702702703, 'ay whats': 0.02702702702702703, 'my friend': 0.02702702702702703, 'fairly by': 0.02702702702702703, 'is not': 0.02702702702702703, 'was not': 0.02702702702702703, 'is and': 0.036036036036036036, 'was whist': 0.036036036036036036, 'for the': 0.036036036036036036, 'was in': 0.02702702702702703, 'may wander': 0.02702702702702703, 'now a': 0.02702702702702703, 'was up': 0.09009009009009009, 'would have': 0.036036036036036036, 'in their': 0.036036036036036036, 'in that': 0.036036036036036036, 'the lack': 0.036036036036036036, 'was afoot': 0.036036036036036036}\n"
     ]
    }
   ],
   "source": [
    "print(\"All possible transitions from 'the game' state: \\n\")\n",
    "print(markov_model['the game'])"
   ]
  },
  {
   "cell_type": "markdown",
   "metadata": {
    "papermill": {
     "duration": 0.016112,
     "end_time": "2020-11-25T06:33:28.927707",
     "exception": false,
     "start_time": "2020-11-25T06:33:28.911595",
     "status": "completed"
    },
    "tags": []
   },
   "source": [
    "## Generating Sherlock Holmes stories!"
   ]
  },
  {
   "cell_type": "code",
   "execution_count": 8,
   "metadata": {
    "execution": {
     "iopub.execute_input": "2020-11-25T06:33:28.970771Z",
     "iopub.status.busy": "2020-11-25T06:33:28.969903Z",
     "iopub.status.idle": "2020-11-25T06:33:28.973704Z",
     "shell.execute_reply": "2020-11-25T06:33:28.972947Z"
    },
    "papermill": {
     "duration": 0.02932,
     "end_time": "2020-11-25T06:33:28.973833",
     "exception": false,
     "start_time": "2020-11-25T06:33:28.944513",
     "status": "completed"
    },
    "tags": []
   },
   "outputs": [],
   "source": [
    "def generate_story(markov_model, limit=100, start='my god'):\n",
    "    n = 0\n",
    "    curr_state = start\n",
    "    next_state = None\n",
    "    story = \"\"\n",
    "    story+=curr_state+\" \"\n",
    "    while n<limit:\n",
    "        next_state = random.choices(list(markov_model[curr_state].keys()),\n",
    "                                    list(markov_model[curr_state].values()))\n",
    "        \n",
    "        curr_state = next_state[0]\n",
    "        story+=curr_state+\" \"\n",
    "        n+=1\n",
    "    return story"
   ]
  },
  {
   "cell_type": "code",
   "execution_count": 9,
   "metadata": {
    "execution": {
     "iopub.execute_input": "2020-11-25T06:33:29.021500Z",
     "iopub.status.busy": "2020-11-25T06:33:29.020560Z",
     "iopub.status.idle": "2020-11-25T06:33:29.025821Z",
     "shell.execute_reply": "2020-11-25T06:33:29.024728Z"
    },
    "papermill": {
     "duration": 0.034888,
     "end_time": "2020-11-25T06:33:29.025999",
     "exception": false,
     "start_time": "2020-11-25T06:33:28.991111",
     "status": "completed"
    },
    "tags": []
   },
   "outputs": [
    {
     "name": "stdout",
     "output_type": "stream",
     "text": [
      "0.  dear holmes you are not going away in a place for the reception of so distinguished a career \n",
      "1.  dear holmes oh yes well we are quite a match and a wealth of deep black hair her \n",
      "2.  dear holmes i thought he was not in the least disreputable transaction which touched at pondicherry lodge the \n",
      "3.  dear holmes am i right certainly there is your hat and when she raised one hand in his \n",
      "4.  dear holmes if i were to be found in the revolver two have been reading a volume but \n",
      "5.  dear holmes my previous letters and supposing that the name of steve wilson and let me know if \n",
      "6.  dear holmes if i could give us no information which could help it well it is not raining \n",
      "7.  dear holmes i exclaimed and this is important for you steve if i get no rest for me \n",
      "8.  dear holmes my previous letters and supposing that i was astounded to see miss stapleton sitting upon a \n",
      "9.  dear holmes i ejaculated commonplace said holmes though the matter it may be has only just laid there \n",
      "10.  dear holmes i ejaculated no for you in money matters you have saved my honor well my own \n",
      "11.  dear holmes and tell him that night and yet i couldnt tell you why next instant there was \n",
      "12.  dear holmes i thought they had as i did to that of your friend mr sherlock holmes i \n",
      "13.  dear holmes you are sure this one was found in that oven which had been left behind that \n",
      "14.  dear holmes i have used it seems to be a man of my own praises if i say \n",
      "15.  dear holmes he has an extraordinary change had come over his face to see you i can see \n",
      "16.  dear holmes i fear it is probable that the silent englishman being less bold or less vague impressions \n",
      "17.  dear holmes he has always answered me like this now ill be on hand just now i may \n",
      "18.  dear holmes am i to do we hardly drew another word from my companion sat silent for some \n",
      "19.  dear holmes i ejaculated surely said i the clue of any kind this brought his hand to my \n"
     ]
    }
   ],
   "source": [
    "for i in range(20):\n",
    "    print(str(i)+\". \", generate_story(markov_model, start=\"dear holmes\", limit=8))"
   ]
  },
  {
   "cell_type": "code",
   "execution_count": 10,
   "metadata": {
    "execution": {
     "iopub.execute_input": "2020-11-25T06:33:29.073741Z",
     "iopub.status.busy": "2020-11-25T06:33:29.072261Z",
     "iopub.status.idle": "2020-11-25T06:33:29.078030Z",
     "shell.execute_reply": "2020-11-25T06:33:29.076963Z"
    },
    "papermill": {
     "duration": 0.033785,
     "end_time": "2020-11-25T06:33:29.078212",
     "exception": false,
     "start_time": "2020-11-25T06:33:29.044427",
     "status": "completed"
    },
    "tags": []
   },
   "outputs": [
    {
     "name": "stdout",
     "output_type": "stream",
     "text": [
      "0.  my dear young lady who is scratching at my front door and the crisp smoothness of a and \n",
      "1.  my dear watson he is a little off the beaten track isnt it said sir henry had become \n",
      "2.  my dear fellow no one can tone down to it and knocked again without my leave with as \n",
      "3.  my dear watson to understand that this register and diary may implicate some of the fine tan or \n",
      "4.  my dear holmes what can it be let us see if we have given you you have paid \n",
      "5.  my dear sir i have been unable to stand erect when my narrative begins i had nursed and \n",
      "6.  my dear doctor said holmes cheerily i am overjoyed to see a sister of his should ever have \n",
      "7.  my dear watson should have told me as mr ferguson now sit here and there to blair island \n",
      "8.  my dear fellow he will guard the patient and i much fear my dear holmes i cant tell \n",
      "9.  my dear watson said he the agent of von bork like some fearful dream i have lost my \n",
      "10.  my dear watson it is a most mysterious business as a rule quite distinctive i have been at \n",
      "11.  my dear watson yet another had the volume in my pocket on the roof but as we at \n",
      "12.  my dear watson there is so necessary as in religion said he in my power of inference held \n",
      "13.  my dear watson tickets and all the other had developed over the forearm which made him acknowledge his \n",
      "14.  my dear fellow i left him there and then suddenly tailing off into silence and i tell you \n",
      "15.  my dear fellow said stanley hopkins gave a metallic clang which might take his place and pluck her \n",
      "16.  my dear watson said he we have our own means of information of my house before that does \n",
      "17.  my dear watson that we shall all be there to live in russia as in vermissa when a \n",
      "18.  my dear watson this knife is surely in your line but i was kind to her but when \n",
      "19.  my dear colonel that you must take your word for it that i thought so a happy thought \n"
     ]
    }
   ],
   "source": [
    "for i in range(20):\n",
    "    print(str(i)+\". \", generate_story(markov_model, start=\"my dear\", limit=8))"
   ]
  },
  {
   "cell_type": "code",
   "execution_count": 11,
   "metadata": {
    "execution": {
     "iopub.execute_input": "2020-11-25T06:33:29.127823Z",
     "iopub.status.busy": "2020-11-25T06:33:29.126733Z",
     "iopub.status.idle": "2020-11-25T06:33:29.131503Z",
     "shell.execute_reply": "2020-11-25T06:33:29.130427Z"
    },
    "papermill": {
     "duration": 0.03434,
     "end_time": "2020-11-25T06:33:29.131674",
     "exception": false,
     "start_time": "2020-11-25T06:33:29.097334",
     "status": "completed"
    },
    "tags": []
   },
   "outputs": [
    {
     "name": "stdout",
     "output_type": "stream",
     "text": [
      "0.  i would risk a little sporting flutter that you dont know what to make a jury even if \n",
      "1.  i would rather die under my command and i was too terrified to raise no hand and speak \n",
      "2.  i would have it is too low and the wardrobe that is two days later this same performance \n",
      "3.  i would only ask you not see him but would he come with you said the inspector here \n",
      "4.  i would part with it money would be impossible to effect a rescue the alarm however was given \n",
      "5.  i would sooner have a savage blow from a blunt instrument which had crushed in part of his \n",
      "6.  i would be after her now bless the girl what are you not conducting the case before you \n",
      "7.  i would ask you to humor me a kind o thick and broad hasp wrought in the image \n",
      "8.  i would see you really have not time to put up the last point in this way asked \n",
      "9.  i would rather swing a score of them went off to his statement and that she had recovered \n",
      "10.  i would always be the master of the sparest and his habits were simple to the open door \n",
      "11.  i would not have his cursed stock mixed with mine for over one eye was already one of \n",
      "12.  i would make some claim my four years ago that i had heard him talking to himself and \n",
      "13.  i would read as easily as of an investigation my dear mr sherlock holmes sat silent while his \n",
      "14.  i would not put it into me if its on the market which appear to you later meanwhile \n",
      "15.  i would call your cipher was not difficult for me to point that way holmes shook his head \n",
      "16.  i would find that the pages in a dream half dazed and then fell limp upon its side \n",
      "17.  i would rather have a chat with me that not only my maid was here im a rough \n",
      "18.  i would sooner see you in a day or two from oxshott since garcia was walking on the \n",
      "19.  i would keep it on a face that he thought him worth it what was it then i \n"
     ]
    }
   ],
   "source": [
    "for i in range(20):\n",
    "    print(str(i)+\". \", generate_story(markov_model, start=\"i would\", limit=8))"
   ]
  },
  {
   "cell_type": "code",
   "execution_count": 12,
   "metadata": {
    "execution": {
     "iopub.execute_input": "2020-11-25T06:33:29.179898Z",
     "iopub.status.busy": "2020-11-25T06:33:29.178984Z",
     "iopub.status.idle": "2020-11-25T06:33:29.183451Z",
     "shell.execute_reply": "2020-11-25T06:33:29.182682Z"
    },
    "papermill": {
     "duration": 0.030943,
     "end_time": "2020-11-25T06:33:29.183636",
     "exception": false,
     "start_time": "2020-11-25T06:33:29.152693",
     "status": "completed"
    },
    "tags": []
   },
   "outputs": [
    {
     "name": "stdout",
     "output_type": "stream",
     "text": [
      "the case was concerned with an explosive energy which told me that i was at such a sight as that the cipher macdonald sat with his hands in a paroxysm of energy and he stretched his legs as he raced past and her refusal to take her there are few in that chair i can see terror in the coal district in the bare assembly room the men he is armed with a pair precisely but this is certainly a most extraordinary fashion a letter arrived on march his death in the same way i thought of my presence then with a head that was even greater than the obtrusive emotion of the clergyman he sat for some little time no said i only meant sir that sir charles was the elder man first the younger brother and i said i could rely upon my assistance in the enclosed official report it was quite against my wishes twice my boy jack baby dolores and mrs mason to bring news of the outside briarbrae just after sunset well i think we will walk down together to our left or to a small blue book which ascends to such rarefied heights of all the \n"
     ]
    }
   ],
   "source": [
    "print(generate_story(markov_model, start=\"the case\", limit=100))"
   ]
  }
 ],
 "metadata": {
  "kernelspec": {
   "display_name": "Python 3",
   "language": "python",
   "name": "python3"
  },
  "language_info": {
   "codemirror_mode": {
    "name": "ipython",
    "version": 3
   },
   "file_extension": ".py",
   "mimetype": "text/x-python",
   "name": "python",
   "nbconvert_exporter": "python",
   "pygments_lexer": "ipython3",
   "version": "3.8.5"
  },
  "papermill": {
   "duration": 59.473932,
   "end_time": "2020-11-25T06:33:29.314157",
   "environment_variables": {},
   "exception": null,
   "input_path": "__notebook__.ipynb",
   "output_path": "__notebook__.ipynb",
   "parameters": {},
   "start_time": "2020-11-25T06:32:29.840225",
   "version": "2.1.0"
  }
 },
 "nbformat": 4,
 "nbformat_minor": 4
}
