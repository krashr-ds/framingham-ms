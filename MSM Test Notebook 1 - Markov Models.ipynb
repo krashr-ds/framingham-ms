{
 "cells": [
  {
   "cell_type": "markdown",
   "id": "9c7aee46",
   "metadata": {},
   "source": [
    "## Testing the MSM Package\n",
    "\n",
    "Building a first multi-state model using the supplied \"cav\" data.\n",
    "\n",
    "The \"cav\" data, comes with the msm library, and comes from Sharples et al. (2003) study of the progression of coronary allograft vasculopathy (CAV) - a post-transplant deterioration of the arterial walls.\n",
    "\n",
    "Dataset has 2816 state observations, defined as:\n",
    "\n",
    "- state 1: No CAV\n",
    "- state 2: Mild / Moderate CAV\n",
    "- state 3: Severe CAV\n",
    "- state 4: Death\n",
    "\n",
    "**This code and markup / explanations are taken from Jackson, C. H. (2011) Multi-State Models for Panel Data: The msm Package for R *Journal of Statistical Software* 38(8).**"
   ]
  },
  {
   "cell_type": "code",
   "execution_count": 1,
   "id": "1b770469",
   "metadata": {
    "scrolled": true
   },
   "outputs": [
    {
     "name": "stderr",
     "output_type": "stream",
     "text": [
      "Warning message:\n",
      "“package ‘msm’ was built under R version 3.6.3”"
     ]
    }
   ],
   "source": [
    "library(\"msm\")"
   ]
  },
  {
   "cell_type": "code",
   "execution_count": 2,
   "id": "953d677f",
   "metadata": {},
   "outputs": [
    {
     "data": {
      "text/html": [
       "<table>\n",
       "<thead><tr><th></th><th scope=col>PTNUM</th><th scope=col>age</th><th scope=col>years</th><th scope=col>dage</th><th scope=col>sex</th><th scope=col>pdiag</th><th scope=col>cumrej</th><th scope=col>state</th><th scope=col>firstobs</th><th scope=col>statemax</th></tr></thead>\n",
       "<tbody>\n",
       "\t<tr><th scope=row>1</th><td>100002  </td><td>52.49589</td><td>0.000000</td><td>21      </td><td>0       </td><td>IHD     </td><td>0       </td><td>1       </td><td>1       </td><td>1       </td></tr>\n",
       "\t<tr><th scope=row>2</th><td>100002  </td><td>53.49863</td><td>1.002740</td><td>21      </td><td>0       </td><td>IHD     </td><td>2       </td><td>1       </td><td>0       </td><td>1       </td></tr>\n",
       "\t<tr><th scope=row>3</th><td>100002  </td><td>54.49863</td><td>2.002740</td><td>21      </td><td>0       </td><td>IHD     </td><td>2       </td><td>2       </td><td>0       </td><td>2       </td></tr>\n",
       "\t<tr><th scope=row>4</th><td>100002  </td><td>55.58904</td><td>3.093151</td><td>21      </td><td>0       </td><td>IHD     </td><td>2       </td><td>2       </td><td>0       </td><td>2       </td></tr>\n",
       "\t<tr><th scope=row>5</th><td>100002  </td><td>56.49589</td><td>4.000000</td><td>21      </td><td>0       </td><td>IHD     </td><td>3       </td><td>2       </td><td>0       </td><td>2       </td></tr>\n",
       "\t<tr><th scope=row>6</th><td>100002  </td><td>57.49315</td><td>4.997260</td><td>21      </td><td>0       </td><td>IHD     </td><td>3       </td><td>3       </td><td>0       </td><td>3       </td></tr>\n",
       "\t<tr><th scope=row>7</th><td>100002  </td><td>58.35068</td><td>5.854795</td><td>21      </td><td>0       </td><td>IHD     </td><td>3       </td><td>4       </td><td>0       </td><td>4       </td></tr>\n",
       "\t<tr><th scope=row>8</th><td>100003  </td><td>29.50685</td><td>0.000000</td><td>17      </td><td>0       </td><td>IHD     </td><td>0       </td><td>1       </td><td>1       </td><td>1       </td></tr>\n",
       "\t<tr><th scope=row>9</th><td>100003  </td><td>30.69589</td><td>1.189041</td><td>17      </td><td>0       </td><td>IHD     </td><td>1       </td><td>1       </td><td>0       </td><td>1       </td></tr>\n",
       "\t<tr><th scope=row>10</th><td>100003  </td><td>31.51507</td><td>2.008219</td><td>17      </td><td>0       </td><td>IHD     </td><td>1       </td><td>3       </td><td>0       </td><td>3       </td></tr>\n",
       "\t<tr><th scope=row>11</th><td>100003  </td><td>32.49863</td><td>2.991781</td><td>17      </td><td>0       </td><td>IHD     </td><td>2       </td><td>4       </td><td>0       </td><td>4       </td></tr>\n",
       "\t<tr><th scope=row>12</th><td>100004  </td><td>35.89589</td><td>0.000000</td><td>16      </td><td>0       </td><td>IDC     </td><td>0       </td><td>1       </td><td>1       </td><td>1       </td></tr>\n",
       "\t<tr><th scope=row>13</th><td>100004  </td><td>36.89863</td><td>1.002740</td><td>16      </td><td>0       </td><td>IDC     </td><td>2       </td><td>1       </td><td>0       </td><td>1       </td></tr>\n",
       "\t<tr><th scope=row>14</th><td>100004  </td><td>37.90685</td><td>2.010959</td><td>16      </td><td>0       </td><td>IDC     </td><td>2       </td><td>1       </td><td>0       </td><td>1       </td></tr>\n",
       "\t<tr><th scope=row>15</th><td>100004  </td><td>38.90685</td><td>3.010959</td><td>16      </td><td>0       </td><td>IDC     </td><td>2       </td><td>1       </td><td>0       </td><td>1       </td></tr>\n",
       "\t<tr><th scope=row>16</th><td>100004  </td><td>39.90411</td><td>4.008219</td><td>16      </td><td>0       </td><td>IDC     </td><td>2       </td><td>1       </td><td>0       </td><td>1       </td></tr>\n",
       "\t<tr><th scope=row>17</th><td>100004  </td><td>40.88767</td><td>4.991781</td><td>16      </td><td>0       </td><td>IDC     </td><td>2       </td><td>1       </td><td>0       </td><td>1       </td></tr>\n",
       "\t<tr><th scope=row>18</th><td>100004  </td><td>41.91781</td><td>6.021918</td><td>16      </td><td>0       </td><td>IDC     </td><td>2       </td><td>2       </td><td>0       </td><td>2       </td></tr>\n",
       "\t<tr><th scope=row>19</th><td>100004  </td><td>42.91507</td><td>7.019178</td><td>16      </td><td>0       </td><td>IDC     </td><td>2       </td><td>3       </td><td>0       </td><td>3       </td></tr>\n",
       "\t<tr><th scope=row>20</th><td>100004  </td><td>43.91233</td><td>8.016438</td><td>16      </td><td>0       </td><td>IDC     </td><td>2       </td><td>3       </td><td>0       </td><td>3       </td></tr>\n",
       "\t<tr><th scope=row>21</th><td>100004  </td><td>44.79726</td><td>8.901370</td><td>16      </td><td>0       </td><td>IDC     </td><td>2       </td><td>4       </td><td>0       </td><td>4       </td></tr>\n",
       "\t<tr><th scope=row>22</th><td>100006  </td><td>23.62192</td><td>0.000000</td><td>22      </td><td>0       </td><td>IDC     </td><td>0       </td><td>1       </td><td>1       </td><td>1       </td></tr>\n",
       "\t<tr><th scope=row>23</th><td>100006  </td><td>24.63562</td><td>1.013699</td><td>22      </td><td>0       </td><td>IDC     </td><td>3       </td><td>1       </td><td>0       </td><td>1       </td></tr>\n",
       "\t<tr><th scope=row>24</th><td>100006  </td><td>26.01644</td><td>2.394521</td><td>22      </td><td>0       </td><td>IDC     </td><td>3       </td><td>1       </td><td>0       </td><td>1       </td></tr>\n",
       "\t<tr><th scope=row>25</th><td>100006  </td><td>26.65205</td><td>3.030137</td><td>22      </td><td>0       </td><td>IDC     </td><td>3       </td><td>1       </td><td>0       </td><td>1       </td></tr>\n",
       "\t<tr><th scope=row>26</th><td>100006  </td><td>27.69041</td><td>4.068493</td><td>22      </td><td>0       </td><td>IDC     </td><td>4       </td><td>1       </td><td>0       </td><td>1       </td></tr>\n",
       "\t<tr><th scope=row>27</th><td>100006  </td><td>28.57534</td><td>4.953425</td><td>22      </td><td>0       </td><td>IDC     </td><td>7       </td><td>1       </td><td>0       </td><td>1       </td></tr>\n",
       "\t<tr><th scope=row>28</th><td>100006  </td><td>29.62466</td><td>6.002740</td><td>22      </td><td>0       </td><td>IDC     </td><td>8       </td><td>1       </td><td>0       </td><td>1       </td></tr>\n",
       "\t<tr><th scope=row>29</th><td>100006  </td><td>31.62466</td><td>8.002740</td><td>22      </td><td>0       </td><td>IDC     </td><td>8       </td><td>3       </td><td>0       </td><td>3       </td></tr>\n",
       "\t<tr><th scope=row>30</th><td>100006  </td><td>31.68767</td><td>8.065753</td><td>22      </td><td>0       </td><td>IDC     </td><td>8       </td><td>4       </td><td>0       </td><td>4       </td></tr>\n",
       "\t<tr><th scope=row>...</th><td>...</td><td>...</td><td>...</td><td>...</td><td>...</td><td>...</td><td>...</td><td>...</td><td>...</td><td>...</td></tr>\n",
       "\t<tr><th scope=row>2815</th><td>100822    </td><td>31.17808  </td><td>1.95342466</td><td>17        </td><td>0         </td><td>IDC       </td><td>0         </td><td>1         </td><td>0         </td><td>1         </td></tr>\n",
       "\t<tr><th scope=row>2818</th><td>100824    </td><td>58.46027  </td><td>0.00000000</td><td>17        </td><td>0         </td><td>IHD       </td><td>0         </td><td>1         </td><td>1         </td><td>1         </td></tr>\n",
       "\t<tr><th scope=row>2819</th><td>100824    </td><td>59.53973  </td><td>1.07945205</td><td>17        </td><td>0         </td><td>IHD       </td><td>0         </td><td>1         </td><td>0         </td><td>1         </td></tr>\n",
       "\t<tr><th scope=row>2820</th><td>100828    </td><td>40.81096  </td><td>0.00000000</td><td>15        </td><td>0         </td><td>IDC       </td><td>0         </td><td>1         </td><td>1         </td><td>1         </td></tr>\n",
       "\t<tr><th scope=row>2821</th><td>100828    </td><td>42.03562  </td><td>1.22465753</td><td>15        </td><td>0         </td><td>IDC       </td><td>0         </td><td>1         </td><td>0         </td><td>1         </td></tr>\n",
       "\t<tr><th scope=row>2822</th><td>100830    </td><td>57.86849  </td><td>0.00000000</td><td>44        </td><td>0         </td><td>IDC       </td><td>0         </td><td>1         </td><td>1         </td><td>1         </td></tr>\n",
       "\t<tr><th scope=row>2823</th><td>100830    </td><td>57.96986  </td><td>0.10136986</td><td>44        </td><td>0         </td><td>IDC       </td><td>0         </td><td>4         </td><td>0         </td><td>4         </td></tr>\n",
       "\t<tr><th scope=row>2824</th><td>100832    </td><td>35.32877  </td><td>0.00000000</td><td>58        </td><td>1         </td><td>IDC       </td><td>0         </td><td>1         </td><td>1         </td><td>1         </td></tr>\n",
       "\t<tr><th scope=row>2825</th><td>100832    </td><td>36.08493  </td><td>0.75616438</td><td>58        </td><td>1         </td><td>IDC       </td><td>2         </td><td>4         </td><td>0         </td><td>4         </td></tr>\n",
       "\t<tr><th scope=row>2826</th><td>100833    </td><td>58.57808  </td><td>0.00000000</td><td>52        </td><td>0         </td><td>IHD       </td><td>0         </td><td>1         </td><td>1         </td><td>1         </td></tr>\n",
       "\t<tr><th scope=row>2827</th><td>100833    </td><td>58.86849  </td><td>0.29041096</td><td>52        </td><td>0         </td><td>IHD       </td><td>2         </td><td>1         </td><td>0         </td><td>1         </td></tr>\n",
       "\t<tr><th scope=row>2828</th><td>100837    </td><td>32.06027  </td><td>0.00000000</td><td>41        </td><td>0         </td><td>Hyper     </td><td>0         </td><td>1         </td><td>1         </td><td>1         </td></tr>\n",
       "\t<tr><th scope=row>2829</th><td>100837    </td><td>32.19726  </td><td>0.13698630</td><td>41        </td><td>0         </td><td>Hyper     </td><td>0         </td><td>1         </td><td>0         </td><td>1         </td></tr>\n",
       "\t<tr><th scope=row>2830</th><td>100837    </td><td>32.23288  </td><td>0.17260274</td><td>41        </td><td>0         </td><td>Hyper     </td><td>0         </td><td>4         </td><td>0         </td><td>4         </td></tr>\n",
       "\t<tr><th scope=row>2831</th><td>100843    </td><td>54.47123  </td><td>0.00000000</td><td>51        </td><td>1         </td><td>IDC       </td><td>0         </td><td>1         </td><td>1         </td><td>1         </td></tr>\n",
       "\t<tr><th scope=row>2832</th><td>100843    </td><td>54.74247  </td><td>0.27123288</td><td>51        </td><td>1         </td><td>IDC       </td><td>2         </td><td>1         </td><td>0         </td><td>1         </td></tr>\n",
       "\t<tr><th scope=row>2833</th><td>100848    </td><td>61.52603  </td><td>0.00000000</td><td>45        </td><td>0         </td><td>CVCM      </td><td>0         </td><td>1         </td><td>1         </td><td>1         </td></tr>\n",
       "\t<tr><th scope=row>2834</th><td>100848    </td><td>62.34795  </td><td>0.82191781</td><td>45        </td><td>0         </td><td>CVCM      </td><td>0         </td><td>4         </td><td>0         </td><td>4         </td></tr>\n",
       "\t<tr><th scope=row>2835</th><td>100854    </td><td>62.35342  </td><td>0.00000000</td><td>43        </td><td>1         </td><td>IHD       </td><td>0         </td><td>1         </td><td>1         </td><td>1         </td></tr>\n",
       "\t<tr><th scope=row>2836</th><td>100854    </td><td>62.54795  </td><td>0.19452055</td><td>43        </td><td>1         </td><td>IHD       </td><td>0         </td><td>4         </td><td>0         </td><td>4         </td></tr>\n",
       "\t<tr><th scope=row>2837</th><td>100858    </td><td>56.00548  </td><td>0.00000000</td><td>27        </td><td>0         </td><td>IHD       </td><td>0         </td><td>1         </td><td>1         </td><td>1         </td></tr>\n",
       "\t<tr><th scope=row>2838</th><td>100858    </td><td>56.02740  </td><td>0.02191781</td><td>27        </td><td>0         </td><td>IHD       </td><td>0         </td><td>4         </td><td>0         </td><td>4         </td></tr>\n",
       "\t<tr><th scope=row>2839</th><td>100860    </td><td>50.23562  </td><td>0.00000000</td><td>48        </td><td>0         </td><td>IHD       </td><td>0         </td><td>1         </td><td>1         </td><td>1         </td></tr>\n",
       "\t<tr><th scope=row>2840</th><td>100860    </td><td>50.29863  </td><td>0.06301370</td><td>48        </td><td>0         </td><td>IHD       </td><td>0         </td><td>4         </td><td>0         </td><td>4         </td></tr>\n",
       "\t<tr><th scope=row>2841</th><td>100880    </td><td>61.38356  </td><td>0.00000000</td><td>31        </td><td>0         </td><td>IDC       </td><td>0         </td><td>1         </td><td>1         </td><td>1         </td></tr>\n",
       "\t<tr><th scope=row>2842</th><td>100880    </td><td>61.44384  </td><td>0.06027397</td><td>31        </td><td>0         </td><td>IDC       </td><td>0         </td><td>4         </td><td>0         </td><td>4         </td></tr>\n",
       "\t<tr><th scope=row>2843</th><td>100892    </td><td>55.84384  </td><td>0.00000000</td><td>54        </td><td>0         </td><td>IHD       </td><td>0         </td><td>1         </td><td>1         </td><td>1         </td></tr>\n",
       "\t<tr><th scope=row>2844</th><td>100892    </td><td>55.86575  </td><td>0.02191781</td><td>54        </td><td>0         </td><td>IHD       </td><td>0         </td><td>4         </td><td>0         </td><td>4         </td></tr>\n",
       "\t<tr><th scope=row>2845</th><td>100897    </td><td>62.73973  </td><td>0.00000000</td><td>54        </td><td>0         </td><td>IHD       </td><td>0         </td><td>1         </td><td>1         </td><td>1         </td></tr>\n",
       "\t<tr><th scope=row>2846</th><td>100897    </td><td>62.78904  </td><td>0.04931507</td><td>54        </td><td>0         </td><td>IHD       </td><td>0         </td><td>4         </td><td>0         </td><td>4         </td></tr>\n",
       "</tbody>\n",
       "</table>\n"
      ],
      "text/latex": [
       "\\begin{tabular}{r|llllllllll}\n",
       "  & PTNUM & age & years & dage & sex & pdiag & cumrej & state & firstobs & statemax\\\\\n",
       "\\hline\n",
       "\t1 & 100002   & 52.49589 & 0.000000 & 21       & 0        & IHD      & 0        & 1        & 1        & 1       \\\\\n",
       "\t2 & 100002   & 53.49863 & 1.002740 & 21       & 0        & IHD      & 2        & 1        & 0        & 1       \\\\\n",
       "\t3 & 100002   & 54.49863 & 2.002740 & 21       & 0        & IHD      & 2        & 2        & 0        & 2       \\\\\n",
       "\t4 & 100002   & 55.58904 & 3.093151 & 21       & 0        & IHD      & 2        & 2        & 0        & 2       \\\\\n",
       "\t5 & 100002   & 56.49589 & 4.000000 & 21       & 0        & IHD      & 3        & 2        & 0        & 2       \\\\\n",
       "\t6 & 100002   & 57.49315 & 4.997260 & 21       & 0        & IHD      & 3        & 3        & 0        & 3       \\\\\n",
       "\t7 & 100002   & 58.35068 & 5.854795 & 21       & 0        & IHD      & 3        & 4        & 0        & 4       \\\\\n",
       "\t8 & 100003   & 29.50685 & 0.000000 & 17       & 0        & IHD      & 0        & 1        & 1        & 1       \\\\\n",
       "\t9 & 100003   & 30.69589 & 1.189041 & 17       & 0        & IHD      & 1        & 1        & 0        & 1       \\\\\n",
       "\t10 & 100003   & 31.51507 & 2.008219 & 17       & 0        & IHD      & 1        & 3        & 0        & 3       \\\\\n",
       "\t11 & 100003   & 32.49863 & 2.991781 & 17       & 0        & IHD      & 2        & 4        & 0        & 4       \\\\\n",
       "\t12 & 100004   & 35.89589 & 0.000000 & 16       & 0        & IDC      & 0        & 1        & 1        & 1       \\\\\n",
       "\t13 & 100004   & 36.89863 & 1.002740 & 16       & 0        & IDC      & 2        & 1        & 0        & 1       \\\\\n",
       "\t14 & 100004   & 37.90685 & 2.010959 & 16       & 0        & IDC      & 2        & 1        & 0        & 1       \\\\\n",
       "\t15 & 100004   & 38.90685 & 3.010959 & 16       & 0        & IDC      & 2        & 1        & 0        & 1       \\\\\n",
       "\t16 & 100004   & 39.90411 & 4.008219 & 16       & 0        & IDC      & 2        & 1        & 0        & 1       \\\\\n",
       "\t17 & 100004   & 40.88767 & 4.991781 & 16       & 0        & IDC      & 2        & 1        & 0        & 1       \\\\\n",
       "\t18 & 100004   & 41.91781 & 6.021918 & 16       & 0        & IDC      & 2        & 2        & 0        & 2       \\\\\n",
       "\t19 & 100004   & 42.91507 & 7.019178 & 16       & 0        & IDC      & 2        & 3        & 0        & 3       \\\\\n",
       "\t20 & 100004   & 43.91233 & 8.016438 & 16       & 0        & IDC      & 2        & 3        & 0        & 3       \\\\\n",
       "\t21 & 100004   & 44.79726 & 8.901370 & 16       & 0        & IDC      & 2        & 4        & 0        & 4       \\\\\n",
       "\t22 & 100006   & 23.62192 & 0.000000 & 22       & 0        & IDC      & 0        & 1        & 1        & 1       \\\\\n",
       "\t23 & 100006   & 24.63562 & 1.013699 & 22       & 0        & IDC      & 3        & 1        & 0        & 1       \\\\\n",
       "\t24 & 100006   & 26.01644 & 2.394521 & 22       & 0        & IDC      & 3        & 1        & 0        & 1       \\\\\n",
       "\t25 & 100006   & 26.65205 & 3.030137 & 22       & 0        & IDC      & 3        & 1        & 0        & 1       \\\\\n",
       "\t26 & 100006   & 27.69041 & 4.068493 & 22       & 0        & IDC      & 4        & 1        & 0        & 1       \\\\\n",
       "\t27 & 100006   & 28.57534 & 4.953425 & 22       & 0        & IDC      & 7        & 1        & 0        & 1       \\\\\n",
       "\t28 & 100006   & 29.62466 & 6.002740 & 22       & 0        & IDC      & 8        & 1        & 0        & 1       \\\\\n",
       "\t29 & 100006   & 31.62466 & 8.002740 & 22       & 0        & IDC      & 8        & 3        & 0        & 3       \\\\\n",
       "\t30 & 100006   & 31.68767 & 8.065753 & 22       & 0        & IDC      & 8        & 4        & 0        & 4       \\\\\n",
       "\t... & ... & ... & ... & ... & ... & ... & ... & ... & ... & ...\\\\\n",
       "\t2815 & 100822     & 31.17808   & 1.95342466 & 17         & 0          & IDC        & 0          & 1          & 0          & 1         \\\\\n",
       "\t2818 & 100824     & 58.46027   & 0.00000000 & 17         & 0          & IHD        & 0          & 1          & 1          & 1         \\\\\n",
       "\t2819 & 100824     & 59.53973   & 1.07945205 & 17         & 0          & IHD        & 0          & 1          & 0          & 1         \\\\\n",
       "\t2820 & 100828     & 40.81096   & 0.00000000 & 15         & 0          & IDC        & 0          & 1          & 1          & 1         \\\\\n",
       "\t2821 & 100828     & 42.03562   & 1.22465753 & 15         & 0          & IDC        & 0          & 1          & 0          & 1         \\\\\n",
       "\t2822 & 100830     & 57.86849   & 0.00000000 & 44         & 0          & IDC        & 0          & 1          & 1          & 1         \\\\\n",
       "\t2823 & 100830     & 57.96986   & 0.10136986 & 44         & 0          & IDC        & 0          & 4          & 0          & 4         \\\\\n",
       "\t2824 & 100832     & 35.32877   & 0.00000000 & 58         & 1          & IDC        & 0          & 1          & 1          & 1         \\\\\n",
       "\t2825 & 100832     & 36.08493   & 0.75616438 & 58         & 1          & IDC        & 2          & 4          & 0          & 4         \\\\\n",
       "\t2826 & 100833     & 58.57808   & 0.00000000 & 52         & 0          & IHD        & 0          & 1          & 1          & 1         \\\\\n",
       "\t2827 & 100833     & 58.86849   & 0.29041096 & 52         & 0          & IHD        & 2          & 1          & 0          & 1         \\\\\n",
       "\t2828 & 100837     & 32.06027   & 0.00000000 & 41         & 0          & Hyper      & 0          & 1          & 1          & 1         \\\\\n",
       "\t2829 & 100837     & 32.19726   & 0.13698630 & 41         & 0          & Hyper      & 0          & 1          & 0          & 1         \\\\\n",
       "\t2830 & 100837     & 32.23288   & 0.17260274 & 41         & 0          & Hyper      & 0          & 4          & 0          & 4         \\\\\n",
       "\t2831 & 100843     & 54.47123   & 0.00000000 & 51         & 1          & IDC        & 0          & 1          & 1          & 1         \\\\\n",
       "\t2832 & 100843     & 54.74247   & 0.27123288 & 51         & 1          & IDC        & 2          & 1          & 0          & 1         \\\\\n",
       "\t2833 & 100848     & 61.52603   & 0.00000000 & 45         & 0          & CVCM       & 0          & 1          & 1          & 1         \\\\\n",
       "\t2834 & 100848     & 62.34795   & 0.82191781 & 45         & 0          & CVCM       & 0          & 4          & 0          & 4         \\\\\n",
       "\t2835 & 100854     & 62.35342   & 0.00000000 & 43         & 1          & IHD        & 0          & 1          & 1          & 1         \\\\\n",
       "\t2836 & 100854     & 62.54795   & 0.19452055 & 43         & 1          & IHD        & 0          & 4          & 0          & 4         \\\\\n",
       "\t2837 & 100858     & 56.00548   & 0.00000000 & 27         & 0          & IHD        & 0          & 1          & 1          & 1         \\\\\n",
       "\t2838 & 100858     & 56.02740   & 0.02191781 & 27         & 0          & IHD        & 0          & 4          & 0          & 4         \\\\\n",
       "\t2839 & 100860     & 50.23562   & 0.00000000 & 48         & 0          & IHD        & 0          & 1          & 1          & 1         \\\\\n",
       "\t2840 & 100860     & 50.29863   & 0.06301370 & 48         & 0          & IHD        & 0          & 4          & 0          & 4         \\\\\n",
       "\t2841 & 100880     & 61.38356   & 0.00000000 & 31         & 0          & IDC        & 0          & 1          & 1          & 1         \\\\\n",
       "\t2842 & 100880     & 61.44384   & 0.06027397 & 31         & 0          & IDC        & 0          & 4          & 0          & 4         \\\\\n",
       "\t2843 & 100892     & 55.84384   & 0.00000000 & 54         & 0          & IHD        & 0          & 1          & 1          & 1         \\\\\n",
       "\t2844 & 100892     & 55.86575   & 0.02191781 & 54         & 0          & IHD        & 0          & 4          & 0          & 4         \\\\\n",
       "\t2845 & 100897     & 62.73973   & 0.00000000 & 54         & 0          & IHD        & 0          & 1          & 1          & 1         \\\\\n",
       "\t2846 & 100897     & 62.78904   & 0.04931507 & 54         & 0          & IHD        & 0          & 4          & 0          & 4         \\\\\n",
       "\\end{tabular}\n"
      ],
      "text/markdown": [
       "\n",
       "| <!--/--> | PTNUM | age | years | dage | sex | pdiag | cumrej | state | firstobs | statemax |\n",
       "|---|---|---|---|---|---|---|---|---|---|---|\n",
       "| 1 | 100002   | 52.49589 | 0.000000 | 21       | 0        | IHD      | 0        | 1        | 1        | 1        |\n",
       "| 2 | 100002   | 53.49863 | 1.002740 | 21       | 0        | IHD      | 2        | 1        | 0        | 1        |\n",
       "| 3 | 100002   | 54.49863 | 2.002740 | 21       | 0        | IHD      | 2        | 2        | 0        | 2        |\n",
       "| 4 | 100002   | 55.58904 | 3.093151 | 21       | 0        | IHD      | 2        | 2        | 0        | 2        |\n",
       "| 5 | 100002   | 56.49589 | 4.000000 | 21       | 0        | IHD      | 3        | 2        | 0        | 2        |\n",
       "| 6 | 100002   | 57.49315 | 4.997260 | 21       | 0        | IHD      | 3        | 3        | 0        | 3        |\n",
       "| 7 | 100002   | 58.35068 | 5.854795 | 21       | 0        | IHD      | 3        | 4        | 0        | 4        |\n",
       "| 8 | 100003   | 29.50685 | 0.000000 | 17       | 0        | IHD      | 0        | 1        | 1        | 1        |\n",
       "| 9 | 100003   | 30.69589 | 1.189041 | 17       | 0        | IHD      | 1        | 1        | 0        | 1        |\n",
       "| 10 | 100003   | 31.51507 | 2.008219 | 17       | 0        | IHD      | 1        | 3        | 0        | 3        |\n",
       "| 11 | 100003   | 32.49863 | 2.991781 | 17       | 0        | IHD      | 2        | 4        | 0        | 4        |\n",
       "| 12 | 100004   | 35.89589 | 0.000000 | 16       | 0        | IDC      | 0        | 1        | 1        | 1        |\n",
       "| 13 | 100004   | 36.89863 | 1.002740 | 16       | 0        | IDC      | 2        | 1        | 0        | 1        |\n",
       "| 14 | 100004   | 37.90685 | 2.010959 | 16       | 0        | IDC      | 2        | 1        | 0        | 1        |\n",
       "| 15 | 100004   | 38.90685 | 3.010959 | 16       | 0        | IDC      | 2        | 1        | 0        | 1        |\n",
       "| 16 | 100004   | 39.90411 | 4.008219 | 16       | 0        | IDC      | 2        | 1        | 0        | 1        |\n",
       "| 17 | 100004   | 40.88767 | 4.991781 | 16       | 0        | IDC      | 2        | 1        | 0        | 1        |\n",
       "| 18 | 100004   | 41.91781 | 6.021918 | 16       | 0        | IDC      | 2        | 2        | 0        | 2        |\n",
       "| 19 | 100004   | 42.91507 | 7.019178 | 16       | 0        | IDC      | 2        | 3        | 0        | 3        |\n",
       "| 20 | 100004   | 43.91233 | 8.016438 | 16       | 0        | IDC      | 2        | 3        | 0        | 3        |\n",
       "| 21 | 100004   | 44.79726 | 8.901370 | 16       | 0        | IDC      | 2        | 4        | 0        | 4        |\n",
       "| 22 | 100006   | 23.62192 | 0.000000 | 22       | 0        | IDC      | 0        | 1        | 1        | 1        |\n",
       "| 23 | 100006   | 24.63562 | 1.013699 | 22       | 0        | IDC      | 3        | 1        | 0        | 1        |\n",
       "| 24 | 100006   | 26.01644 | 2.394521 | 22       | 0        | IDC      | 3        | 1        | 0        | 1        |\n",
       "| 25 | 100006   | 26.65205 | 3.030137 | 22       | 0        | IDC      | 3        | 1        | 0        | 1        |\n",
       "| 26 | 100006   | 27.69041 | 4.068493 | 22       | 0        | IDC      | 4        | 1        | 0        | 1        |\n",
       "| 27 | 100006   | 28.57534 | 4.953425 | 22       | 0        | IDC      | 7        | 1        | 0        | 1        |\n",
       "| 28 | 100006   | 29.62466 | 6.002740 | 22       | 0        | IDC      | 8        | 1        | 0        | 1        |\n",
       "| 29 | 100006   | 31.62466 | 8.002740 | 22       | 0        | IDC      | 8        | 3        | 0        | 3        |\n",
       "| 30 | 100006   | 31.68767 | 8.065753 | 22       | 0        | IDC      | 8        | 4        | 0        | 4        |\n",
       "| ... | ... | ... | ... | ... | ... | ... | ... | ... | ... | ... |\n",
       "| 2815 | 100822     | 31.17808   | 1.95342466 | 17         | 0          | IDC        | 0          | 1          | 0          | 1          |\n",
       "| 2818 | 100824     | 58.46027   | 0.00000000 | 17         | 0          | IHD        | 0          | 1          | 1          | 1          |\n",
       "| 2819 | 100824     | 59.53973   | 1.07945205 | 17         | 0          | IHD        | 0          | 1          | 0          | 1          |\n",
       "| 2820 | 100828     | 40.81096   | 0.00000000 | 15         | 0          | IDC        | 0          | 1          | 1          | 1          |\n",
       "| 2821 | 100828     | 42.03562   | 1.22465753 | 15         | 0          | IDC        | 0          | 1          | 0          | 1          |\n",
       "| 2822 | 100830     | 57.86849   | 0.00000000 | 44         | 0          | IDC        | 0          | 1          | 1          | 1          |\n",
       "| 2823 | 100830     | 57.96986   | 0.10136986 | 44         | 0          | IDC        | 0          | 4          | 0          | 4          |\n",
       "| 2824 | 100832     | 35.32877   | 0.00000000 | 58         | 1          | IDC        | 0          | 1          | 1          | 1          |\n",
       "| 2825 | 100832     | 36.08493   | 0.75616438 | 58         | 1          | IDC        | 2          | 4          | 0          | 4          |\n",
       "| 2826 | 100833     | 58.57808   | 0.00000000 | 52         | 0          | IHD        | 0          | 1          | 1          | 1          |\n",
       "| 2827 | 100833     | 58.86849   | 0.29041096 | 52         | 0          | IHD        | 2          | 1          | 0          | 1          |\n",
       "| 2828 | 100837     | 32.06027   | 0.00000000 | 41         | 0          | Hyper      | 0          | 1          | 1          | 1          |\n",
       "| 2829 | 100837     | 32.19726   | 0.13698630 | 41         | 0          | Hyper      | 0          | 1          | 0          | 1          |\n",
       "| 2830 | 100837     | 32.23288   | 0.17260274 | 41         | 0          | Hyper      | 0          | 4          | 0          | 4          |\n",
       "| 2831 | 100843     | 54.47123   | 0.00000000 | 51         | 1          | IDC        | 0          | 1          | 1          | 1          |\n",
       "| 2832 | 100843     | 54.74247   | 0.27123288 | 51         | 1          | IDC        | 2          | 1          | 0          | 1          |\n",
       "| 2833 | 100848     | 61.52603   | 0.00000000 | 45         | 0          | CVCM       | 0          | 1          | 1          | 1          |\n",
       "| 2834 | 100848     | 62.34795   | 0.82191781 | 45         | 0          | CVCM       | 0          | 4          | 0          | 4          |\n",
       "| 2835 | 100854     | 62.35342   | 0.00000000 | 43         | 1          | IHD        | 0          | 1          | 1          | 1          |\n",
       "| 2836 | 100854     | 62.54795   | 0.19452055 | 43         | 1          | IHD        | 0          | 4          | 0          | 4          |\n",
       "| 2837 | 100858     | 56.00548   | 0.00000000 | 27         | 0          | IHD        | 0          | 1          | 1          | 1          |\n",
       "| 2838 | 100858     | 56.02740   | 0.02191781 | 27         | 0          | IHD        | 0          | 4          | 0          | 4          |\n",
       "| 2839 | 100860     | 50.23562   | 0.00000000 | 48         | 0          | IHD        | 0          | 1          | 1          | 1          |\n",
       "| 2840 | 100860     | 50.29863   | 0.06301370 | 48         | 0          | IHD        | 0          | 4          | 0          | 4          |\n",
       "| 2841 | 100880     | 61.38356   | 0.00000000 | 31         | 0          | IDC        | 0          | 1          | 1          | 1          |\n",
       "| 2842 | 100880     | 61.44384   | 0.06027397 | 31         | 0          | IDC        | 0          | 4          | 0          | 4          |\n",
       "| 2843 | 100892     | 55.84384   | 0.00000000 | 54         | 0          | IHD        | 0          | 1          | 1          | 1          |\n",
       "| 2844 | 100892     | 55.86575   | 0.02191781 | 54         | 0          | IHD        | 0          | 4          | 0          | 4          |\n",
       "| 2845 | 100897     | 62.73973   | 0.00000000 | 54         | 0          | IHD        | 0          | 1          | 1          | 1          |\n",
       "| 2846 | 100897     | 62.78904   | 0.04931507 | 54         | 0          | IHD        | 0          | 4          | 0          | 4          |\n",
       "\n"
      ],
      "text/plain": [
       "     PTNUM  age      years      dage sex pdiag cumrej state firstobs statemax\n",
       "1    100002 52.49589 0.000000   21   0   IHD   0      1     1        1       \n",
       "2    100002 53.49863 1.002740   21   0   IHD   2      1     0        1       \n",
       "3    100002 54.49863 2.002740   21   0   IHD   2      2     0        2       \n",
       "4    100002 55.58904 3.093151   21   0   IHD   2      2     0        2       \n",
       "5    100002 56.49589 4.000000   21   0   IHD   3      2     0        2       \n",
       "6    100002 57.49315 4.997260   21   0   IHD   3      3     0        3       \n",
       "7    100002 58.35068 5.854795   21   0   IHD   3      4     0        4       \n",
       "8    100003 29.50685 0.000000   17   0   IHD   0      1     1        1       \n",
       "9    100003 30.69589 1.189041   17   0   IHD   1      1     0        1       \n",
       "10   100003 31.51507 2.008219   17   0   IHD   1      3     0        3       \n",
       "11   100003 32.49863 2.991781   17   0   IHD   2      4     0        4       \n",
       "12   100004 35.89589 0.000000   16   0   IDC   0      1     1        1       \n",
       "13   100004 36.89863 1.002740   16   0   IDC   2      1     0        1       \n",
       "14   100004 37.90685 2.010959   16   0   IDC   2      1     0        1       \n",
       "15   100004 38.90685 3.010959   16   0   IDC   2      1     0        1       \n",
       "16   100004 39.90411 4.008219   16   0   IDC   2      1     0        1       \n",
       "17   100004 40.88767 4.991781   16   0   IDC   2      1     0        1       \n",
       "18   100004 41.91781 6.021918   16   0   IDC   2      2     0        2       \n",
       "19   100004 42.91507 7.019178   16   0   IDC   2      3     0        3       \n",
       "20   100004 43.91233 8.016438   16   0   IDC   2      3     0        3       \n",
       "21   100004 44.79726 8.901370   16   0   IDC   2      4     0        4       \n",
       "22   100006 23.62192 0.000000   22   0   IDC   0      1     1        1       \n",
       "23   100006 24.63562 1.013699   22   0   IDC   3      1     0        1       \n",
       "24   100006 26.01644 2.394521   22   0   IDC   3      1     0        1       \n",
       "25   100006 26.65205 3.030137   22   0   IDC   3      1     0        1       \n",
       "26   100006 27.69041 4.068493   22   0   IDC   4      1     0        1       \n",
       "27   100006 28.57534 4.953425   22   0   IDC   7      1     0        1       \n",
       "28   100006 29.62466 6.002740   22   0   IDC   8      1     0        1       \n",
       "29   100006 31.62466 8.002740   22   0   IDC   8      3     0        3       \n",
       "30   100006 31.68767 8.065753   22   0   IDC   8      4     0        4       \n",
       "...  ...    ...      ...        ...  ... ...   ...    ...   ...      ...     \n",
       "2815 100822 31.17808 1.95342466 17   0   IDC   0      1     0        1       \n",
       "2818 100824 58.46027 0.00000000 17   0   IHD   0      1     1        1       \n",
       "2819 100824 59.53973 1.07945205 17   0   IHD   0      1     0        1       \n",
       "2820 100828 40.81096 0.00000000 15   0   IDC   0      1     1        1       \n",
       "2821 100828 42.03562 1.22465753 15   0   IDC   0      1     0        1       \n",
       "2822 100830 57.86849 0.00000000 44   0   IDC   0      1     1        1       \n",
       "2823 100830 57.96986 0.10136986 44   0   IDC   0      4     0        4       \n",
       "2824 100832 35.32877 0.00000000 58   1   IDC   0      1     1        1       \n",
       "2825 100832 36.08493 0.75616438 58   1   IDC   2      4     0        4       \n",
       "2826 100833 58.57808 0.00000000 52   0   IHD   0      1     1        1       \n",
       "2827 100833 58.86849 0.29041096 52   0   IHD   2      1     0        1       \n",
       "2828 100837 32.06027 0.00000000 41   0   Hyper 0      1     1        1       \n",
       "2829 100837 32.19726 0.13698630 41   0   Hyper 0      1     0        1       \n",
       "2830 100837 32.23288 0.17260274 41   0   Hyper 0      4     0        4       \n",
       "2831 100843 54.47123 0.00000000 51   1   IDC   0      1     1        1       \n",
       "2832 100843 54.74247 0.27123288 51   1   IDC   2      1     0        1       \n",
       "2833 100848 61.52603 0.00000000 45   0   CVCM  0      1     1        1       \n",
       "2834 100848 62.34795 0.82191781 45   0   CVCM  0      4     0        4       \n",
       "2835 100854 62.35342 0.00000000 43   1   IHD   0      1     1        1       \n",
       "2836 100854 62.54795 0.19452055 43   1   IHD   0      4     0        4       \n",
       "2837 100858 56.00548 0.00000000 27   0   IHD   0      1     1        1       \n",
       "2838 100858 56.02740 0.02191781 27   0   IHD   0      4     0        4       \n",
       "2839 100860 50.23562 0.00000000 48   0   IHD   0      1     1        1       \n",
       "2840 100860 50.29863 0.06301370 48   0   IHD   0      4     0        4       \n",
       "2841 100880 61.38356 0.00000000 31   0   IDC   0      1     1        1       \n",
       "2842 100880 61.44384 0.06027397 31   0   IDC   0      4     0        4       \n",
       "2843 100892 55.84384 0.00000000 54   0   IHD   0      1     1        1       \n",
       "2844 100892 55.86575 0.02191781 54   0   IHD   0      4     0        4       \n",
       "2845 100897 62.73973 0.00000000 54   0   IHD   0      1     1        1       \n",
       "2846 100897 62.78904 0.04931507 54   0   IHD   0      4     0        4       "
      ]
     },
     "metadata": {},
     "output_type": "display_data"
    }
   ],
   "source": [
    "cav <- cav[!is.na(cav$pdiag),]\n",
    "cav"
   ]
  },
  {
   "cell_type": "markdown",
   "id": "a33a2406",
   "metadata": {},
   "source": [
    "## Define states and transitions allowed for model\n",
    "\n",
    "Provide initial values representing a guess that the mean period in each state before moving to the next is about two years (qrr = -0.5) and there is an equal probability of progression, recovery or death (qrr = - SUM where s ne r of qrs).  \n",
    "\n",
    "An alternative to this is to supply the option \"gen.inits=TRUE\" in the msm function call.  This sets the initial values for non-zero entries of the Q matrix (transition intensity matrix) to the maximum likelihood estimates under the assumption that transitions take place only at observation times."
   ]
  },
  {
   "cell_type": "code",
   "execution_count": 3,
   "id": "46b244d4",
   "metadata": {},
   "outputs": [],
   "source": [
    "# Each initial transition block must add up to -qrr (0.5) based on the assumption\n",
    "# In state 1 there are 2 possible transitions to mild/mod or death\n",
    "# In state 2 there are 3 possible transitions back to no cav, to severe, or death\n",
    "# In state 3 there are again 2 possible transitions back to mild/mod or to death\n",
    "# In state 4 there are no further transitions possible (obviously)\n",
    "\n",
    "twoway4.q <- rbind(c(0, 0.25, 0, 0.25), c(0.166, 0, 0.166, 0.166), c(0, 0.25, 0, 0.25), c(0,0,0,0))\n",
    "rownames(twoway4.q) <- colnames(twoway4.q) <- c(\"Well\", \"Mild\", \"Severe\", \"Death\")"
   ]
  },
  {
   "cell_type": "code",
   "execution_count": 4,
   "id": "de419ea2",
   "metadata": {},
   "outputs": [],
   "source": [
    "cav.msm <- msm(state ~ years, subject = PTNUM, data = cav, qmatrix = twoway4.q, death = 4)"
   ]
  },
  {
   "cell_type": "code",
   "execution_count": 5,
   "id": "a69aea19",
   "metadata": {},
   "outputs": [
    {
     "data": {
      "text/plain": [
       "\n",
       "Call:\n",
       "msm(formula = state ~ years, subject = PTNUM, data = cav, qmatrix = twoway4.q,     death = 4)\n",
       "\n",
       "Maximum likelihood estimates\n",
       "\n",
       "Transition intensities\n",
       "                Baseline                   \n",
       "Well - Well     -0.17165 (-0.19178,-0.1536)\n",
       "Well - Mild      0.12920 ( 0.11246, 0.1484)\n",
       "Well - Death     0.04245 ( 0.03400, 0.0530)\n",
       "Mild - Well      0.22643 ( 0.16852, 0.3042)\n",
       "Mild - Mild     -0.60964 (-0.71100,-0.5227)\n",
       "Mild - Severe    0.34180 ( 0.27243, 0.4288)\n",
       "Mild - Death     0.04141 ( 0.01200, 0.1429)\n",
       "Severe - Mild    0.13114 ( 0.07982, 0.2155)\n",
       "Severe - Severe -0.43572 (-0.55162,-0.3442)\n",
       "Severe - Death   0.30458 ( 0.23645, 0.3923)\n",
       "\n",
       "-2 * log-likelihood:  3944.812 \n",
       "[Note, to obtain old print format, use \"printold.msm\"]"
      ]
     },
     "metadata": {},
     "output_type": "display_data"
    }
   ],
   "source": [
    "cav.msm"
   ]
  },
  {
   "cell_type": "markdown",
   "id": "8bb99690",
   "metadata": {},
   "source": [
    "## Interpreting the Transition Intensities\n",
    "\n",
    "- Mean time in the Well state: 1/0.1717 = 5.824 years\n",
    "- Mean time in the Mild state: 1/0.6096 = 1.64 years\n",
    "- Mean time in the Severe state: 1/0.4357 = 2.295 years\n",
    "\n",
    "\n",
    "- From the Mild state, the likelihood of transition to Well is: 0.2264 (23%)\n",
    "- From the Mild state, the likelihood of transition to Severe is: 0.34180 (34%)\n",
    "\n",
    "\n",
    "- The odds of transition to Severe, given Mild: 0.34180 / 0.26781 (0.2264 + 0.04141) = 1.276\n",
    "- The odds of transition to Well, given Mild: 0.2264 / 0.38321 (0.34180 + 0.04141) = 0.5908\n",
    "- The odds ratio: 1.276 / 0.5908 = One is 2.16 times more likely to become Severe than Well, once Mild.\n",
    "- .23 / .34-.23 = 40.4% more likely to go Mild -> Severe, than Mild -> Well\n",
    "\n",
    "\n",
    "- The odds of Death given Severe: 0.30458 / 0.13114 = 2.323\n",
    "- The odds of Death once Severe are 2.323 to 1.\n"
   ]
  },
  {
   "cell_type": "code",
   "execution_count": 6,
   "id": "e5536a99",
   "metadata": {},
   "outputs": [
    {
     "data": {
      "text/plain": [
       "       Well                        Mild                       \n",
       "Well   0.853041 (0.839873,0.86649) 0.089166 (0.078682,0.09982)\n",
       "Mild   0.156269 (0.119468,0.20198) 0.565856 (0.508510,0.60833)\n",
       "Severe 0.009997 (0.005865,0.01631) 0.078848 (0.048978,0.12003)\n",
       "Death  0                           0                          \n",
       "       Severe                      Death                      \n",
       "Well   0.014866 (0.011441,0.01821) 0.042927 (0.035850,0.05271)\n",
       "Mild   0.205504 (0.164755,0.24234) 0.072371 (0.053939,0.13482)\n",
       "Severe 0.660577 (0.592036,0.71401) 0.250579 (0.203278,0.30601)\n",
       "Death  0                           1.000000 (1.000000,1.00000)"
      ]
     },
     "metadata": {},
     "output_type": "display_data"
    }
   ],
   "source": [
    "# Display the Transition Probability Matrix, P(t) over an interval of t=1 (in this case, 1 year)\n",
    "# ci = \"normal\" computes a confidence interval for P(t) by repeated sampling from the asymptotic \n",
    "# normal distribution of the maximum likelihood estimates of the log(qrs)\n",
    "# Based on a default 1000 samples, converged to within 2 significant figures\n",
    "# ci = \"boot\" will instead compute intervals using nonparametric bootstrap resampling, drawn with replacement\n",
    "# the model is refitted repeatedly to estimate the sampling uncertainty surrounding the estimates \n",
    "# more accurate, but slower\n",
    "pmatrix.msm(cav.msm, t = 1, ci = \"normal\")"
   ]
  },
  {
   "cell_type": "markdown",
   "id": "b3e32a2e",
   "metadata": {},
   "source": [
    "## Transition Probabilities\n",
    "\n",
    "- The probability of being Well 1 year from now, given Well is 85%\n",
    "- The probability of being Severe 1 year from now, given Mild is 21%\n",
    "- The probability of being Dead 1 year from now, given Severe is 25%"
   ]
  },
  {
   "cell_type": "code",
   "execution_count": 7,
   "id": "72e3372c",
   "metadata": {},
   "outputs": [],
   "source": [
    "# A model with covariates: dage (age at transplant) and IHD (Ischemic Heart Disease, yes or no)\n",
    "\n",
    "ihd <- as.numeric(cav[, \"pdiag\"] == \"IHD\")\n",
    "cav.cov.msm <- msm(state ~ years, subject = PTNUM, data = cav, covariates = ~ dage + ihd, \n",
    "                   qmatrix = twoway4.q, death = 4, method = \"BFGS\", \n",
    "                   control = list(fnscale=4000, maxit=10000))"
   ]
  },
  {
   "cell_type": "code",
   "execution_count": 8,
   "id": "390248c5",
   "metadata": {},
   "outputs": [
    {
     "data": {
      "text/html": [
       "<dl>\n",
       "\t<dt>$dage</dt>\n",
       "\t\t<dd><table>\n",
       "<thead><tr><th></th><th scope=col>HR</th><th scope=col>L</th><th scope=col>U</th></tr></thead>\n",
       "<tbody>\n",
       "\t<tr><th scope=row>Well - Mild</th><td>1.0192338</td><td>1.0068502</td><td>1.031770 </td></tr>\n",
       "\t<tr><th scope=row>Well - Death</th><td>1.0381550</td><td>1.0180831</td><td>1.058623 </td></tr>\n",
       "\t<tr><th scope=row>Mild - Well</th><td>0.9981551</td><td>0.9725458</td><td>1.024439 </td></tr>\n",
       "\t<tr><th scope=row>Mild - Severe</th><td>0.9856465</td><td>0.9674891</td><td>1.004145 </td></tr>\n",
       "\t<tr><th scope=row>Mild - Death</th><td>0.9319173</td><td>0.8441461</td><td>1.028815 </td></tr>\n",
       "\t<tr><th scope=row>Severe - Mild</th><td>0.9976760</td><td>0.9476897</td><td>1.050299 </td></tr>\n",
       "\t<tr><th scope=row>Severe - Death</th><td>0.9884479</td><td>0.9648268</td><td>1.012647 </td></tr>\n",
       "</tbody>\n",
       "</table>\n",
       "</dd>\n",
       "\t<dt>$ihd</dt>\n",
       "\t\t<dd><table>\n",
       "<thead><tr><th></th><th scope=col>HR</th><th scope=col>L</th><th scope=col>U</th></tr></thead>\n",
       "<tbody>\n",
       "\t<tr><th scope=row>Well - Mild</th><td>1.5670475</td><td>1.1810830</td><td> 2.079141</td></tr>\n",
       "\t<tr><th scope=row>Well - Death</th><td>1.3025416</td><td>0.8197953</td><td> 2.069559</td></tr>\n",
       "\t<tr><th scope=row>Mild - Well</th><td>0.9386910</td><td>0.5197290</td><td> 1.695385</td></tr>\n",
       "\t<tr><th scope=row>Mild - Severe</th><td>0.9565359</td><td>0.6115378</td><td> 1.496164</td></tr>\n",
       "\t<tr><th scope=row>Mild - Death</th><td>1.7812800</td><td>0.2270497</td><td>13.974730</td></tr>\n",
       "\t<tr><th scope=row>Severe - Mild</th><td>0.7655640</td><td>0.2701033</td><td> 2.169867</td></tr>\n",
       "\t<tr><th scope=row>Severe - Death</th><td>0.7601253</td><td>0.4576902</td><td> 1.262405</td></tr>\n",
       "</tbody>\n",
       "</table>\n",
       "</dd>\n",
       "</dl>\n"
      ],
      "text/latex": [
       "\\begin{description}\n",
       "\\item[\\$dage] \\begin{tabular}{r|lll}\n",
       "  & HR & L & U\\\\\n",
       "\\hline\n",
       "\tWell - Mild & 1.0192338 & 1.0068502 & 1.031770 \\\\\n",
       "\tWell - Death & 1.0381550 & 1.0180831 & 1.058623 \\\\\n",
       "\tMild - Well & 0.9981551 & 0.9725458 & 1.024439 \\\\\n",
       "\tMild - Severe & 0.9856465 & 0.9674891 & 1.004145 \\\\\n",
       "\tMild - Death & 0.9319173 & 0.8441461 & 1.028815 \\\\\n",
       "\tSevere - Mild & 0.9976760 & 0.9476897 & 1.050299 \\\\\n",
       "\tSevere - Death & 0.9884479 & 0.9648268 & 1.012647 \\\\\n",
       "\\end{tabular}\n",
       "\n",
       "\\item[\\$ihd] \\begin{tabular}{r|lll}\n",
       "  & HR & L & U\\\\\n",
       "\\hline\n",
       "\tWell - Mild & 1.5670475 & 1.1810830 &  2.079141\\\\\n",
       "\tWell - Death & 1.3025416 & 0.8197953 &  2.069559\\\\\n",
       "\tMild - Well & 0.9386910 & 0.5197290 &  1.695385\\\\\n",
       "\tMild - Severe & 0.9565359 & 0.6115378 &  1.496164\\\\\n",
       "\tMild - Death & 1.7812800 & 0.2270497 & 13.974730\\\\\n",
       "\tSevere - Mild & 0.7655640 & 0.2701033 &  2.169867\\\\\n",
       "\tSevere - Death & 0.7601253 & 0.4576902 &  1.262405\\\\\n",
       "\\end{tabular}\n",
       "\n",
       "\\end{description}\n"
      ],
      "text/markdown": [
       "$dage\n",
       ":   \n",
       "| <!--/--> | HR | L | U |\n",
       "|---|---|---|---|\n",
       "| Well - Mild | 1.0192338 | 1.0068502 | 1.031770  |\n",
       "| Well - Death | 1.0381550 | 1.0180831 | 1.058623  |\n",
       "| Mild - Well | 0.9981551 | 0.9725458 | 1.024439  |\n",
       "| Mild - Severe | 0.9856465 | 0.9674891 | 1.004145  |\n",
       "| Mild - Death | 0.9319173 | 0.8441461 | 1.028815  |\n",
       "| Severe - Mild | 0.9976760 | 0.9476897 | 1.050299  |\n",
       "| Severe - Death | 0.9884479 | 0.9648268 | 1.012647  |\n",
       "\n",
       "\n",
       "$ihd\n",
       ":   \n",
       "| <!--/--> | HR | L | U |\n",
       "|---|---|---|---|\n",
       "| Well - Mild | 1.5670475 | 1.1810830 |  2.079141 |\n",
       "| Well - Death | 1.3025416 | 0.8197953 |  2.069559 |\n",
       "| Mild - Well | 0.9386910 | 0.5197290 |  1.695385 |\n",
       "| Mild - Severe | 0.9565359 | 0.6115378 |  1.496164 |\n",
       "| Mild - Death | 1.7812800 | 0.2270497 | 13.974730 |\n",
       "| Severe - Mild | 0.7655640 | 0.2701033 |  2.169867 |\n",
       "| Severe - Death | 0.7601253 | 0.4576902 |  1.262405 |\n",
       "\n",
       "\n",
       "\n",
       "\n"
      ],
      "text/plain": [
       "$dage\n",
       "                      HR         L        U\n",
       "Well - Mild    1.0192338 1.0068502 1.031770\n",
       "Well - Death   1.0381550 1.0180831 1.058623\n",
       "Mild - Well    0.9981551 0.9725458 1.024439\n",
       "Mild - Severe  0.9856465 0.9674891 1.004145\n",
       "Mild - Death   0.9319173 0.8441461 1.028815\n",
       "Severe - Mild  0.9976760 0.9476897 1.050299\n",
       "Severe - Death 0.9884479 0.9648268 1.012647\n",
       "\n",
       "$ihd\n",
       "                      HR         L         U\n",
       "Well - Mild    1.5670475 1.1810830  2.079141\n",
       "Well - Death   1.3025416 0.8197953  2.069559\n",
       "Mild - Well    0.9386910 0.5197290  1.695385\n",
       "Mild - Severe  0.9565359 0.6115378  1.496164\n",
       "Mild - Death   1.7812800 0.2270497 13.974730\n",
       "Severe - Mild  0.7655640 0.2701033  2.169867\n",
       "Severe - Death 0.7601253 0.4576902  1.262405\n"
      ]
     },
     "metadata": {},
     "output_type": "display_data"
    }
   ],
   "source": [
    "# Display hazard ratios for each covariate on each transition with 95% confidence intervals\n",
    "hazard.msm(cav.cov.msm)"
   ]
  },
  {
   "cell_type": "markdown",
   "id": "0e2678bf",
   "metadata": {},
   "source": [
    "## Interpreting the Hazard Ratios\n",
    "\n",
    "- An initial diagnosis of IHD increases the risk of CAV onset (Well -> Mild) by 57%\n",
    "- 1 year increase in donor age is associated with a 2% increased risk of CAV onset (Well -> Mild)\n",
    "- 1 year increase in donor age is associated with a 3.8% increased risk of Death (Well -> Death)\n",
    "\n",
    "All of the other intervals cross 1, so there is a lot of variability in the impact of the covariate on the transition being examined.\n",
    "\n"
   ]
  },
  {
   "cell_type": "code",
   "execution_count": 9,
   "id": "dd229259",
   "metadata": {},
   "outputs": [
    {
     "data": {
      "text/plain": [
       "       Well                          Mild                         \n",
       "Well   -0.34343 (-0.4383457,-0.2691)  0.24638 ( 0.1822871, 0.3330)\n",
       "Mild    0.21940 ( 0.1148818, 0.4190) -0.48006 (-0.6862295,-0.3358)\n",
       "Severe 0                              0.11179 ( 0.0367642, 0.3399)\n",
       "Death  0                             0                            \n",
       "       Severe                        Death                        \n",
       "Well   0                              0.09706 ( 0.0649868, 0.1449)\n",
       "Mild    0.24821 ( 0.1584555, 0.3888)  0.01246 ( 0.0007292, 0.2128)\n",
       "Severe -0.32336 (-0.5476403,-0.1909)  0.21158 ( 0.1216081, 0.3681)\n",
       "Death  0                             0                            "
      ]
     },
     "metadata": {},
     "output_type": "display_data"
    }
   ],
   "source": [
    "# Calculating the Transition Intensity Matrix for specified covariates\n",
    "# Donor age: 50, Primary Diagnosis: IHD\n",
    "# Note: Avg age donor is 30, and about half of heart transplants are due to IHD\n",
    "\n",
    "qmatrix.msm(cav.cov.msm, covariates = list(dage = 50, ihd = 1))\n"
   ]
  },
  {
   "cell_type": "markdown",
   "id": "7ecdae13",
   "metadata": {},
   "source": [
    "## Comparing this patient to the average patient\n",
    "\n",
    "- Average patient's likelihood of transition from Well -> Mild 13%, for this patient it is 25%\n",
    "- Average patient's likelihood of transition from Well -> Death 4%, for this patient it is 9.7%\n",
    "- Average patient's likelihood of transition from Mild -> Severe 34%, for this patient it is 25%\n",
    "- Average patient's likelihood of transition from Mild -> Death 4%, for this patient it is 1%\n",
    "\n",
    "\n",
    "- Average patient's mean time in Well state 5.8 yrs, this patient 2.9 yrs\n",
    "- Average patient's mean time in Mild state 1.6 yrs, this patient 2.1 yrs\n",
    "- Average patient's mean time in Severe state 2.3 yrs, this patient 3.1 yrs"
   ]
  },
  {
   "cell_type": "code",
   "execution_count": 10,
   "id": "efccbd7c",
   "metadata": {},
   "outputs": [
    {
     "data": {
      "text/html": [
       "<table>\n",
       "<thead><tr><th></th><th scope=col>-2 log LR</th><th scope=col>df</th><th scope=col>p</th></tr></thead>\n",
       "<tbody>\n",
       "\t<tr><th scope=row>cav.cov.msm</th><td>58.02736   </td><td>14         </td><td>2.59407e-07</td></tr>\n",
       "</tbody>\n",
       "</table>\n"
      ],
      "text/latex": [
       "\\begin{tabular}{r|lll}\n",
       "  & -2 log LR & df & p\\\\\n",
       "\\hline\n",
       "\tcav.cov.msm & 58.02736    & 14          & 2.59407e-07\\\\\n",
       "\\end{tabular}\n"
      ],
      "text/markdown": [
       "\n",
       "| <!--/--> | -2 log LR | df | p |\n",
       "|---|---|---|---|\n",
       "| cav.cov.msm | 58.02736    | 14          | 2.59407e-07 |\n",
       "\n"
      ],
      "text/plain": [
       "            -2 log LR df p          \n",
       "cav.cov.msm 58.02736  14 2.59407e-07"
      ]
     },
     "metadata": {},
     "output_type": "display_data"
    }
   ],
   "source": [
    "# Does the model with covariates fit significantly better than the one without? \n",
    "# Compare the likelihood ratio statistic to Chi-square distribution with 14 degrees of freedom\n",
    "\n",
    "lrtest.msm(cav.msm, cav.cov.msm)"
   ]
  },
  {
   "cell_type": "markdown",
   "id": "0d0f57a6",
   "metadata": {},
   "source": [
    "The p-value is highly significant."
   ]
  },
  {
   "cell_type": "markdown",
   "id": "f345d671",
   "metadata": {},
   "source": [
    "## When Q is piecewise-constant\n",
    "\n",
    "Transition probabilities can be calculated in closed form by summing the likelihood over the unknown observed state at the times when the covariates change."
   ]
  },
  {
   "cell_type": "code",
   "execution_count": 11,
   "id": "9e8a598c",
   "metadata": {},
   "outputs": [
    {
     "data": {
      "text/html": [
       "<table>\n",
       "<thead><tr><th></th><th scope=col>-2 log LR</th><th scope=col>df</th><th scope=col>p</th></tr></thead>\n",
       "<tbody>\n",
       "\t<tr><th scope=row>cav.pci.msm</th><td>48.6895     </td><td>7           </td><td>2.609964e-08</td></tr>\n",
       "</tbody>\n",
       "</table>\n"
      ],
      "text/latex": [
       "\\begin{tabular}{r|lll}\n",
       "  & -2 log LR & df & p\\\\\n",
       "\\hline\n",
       "\tcav.pci.msm & 48.6895      & 7            & 2.609964e-08\\\\\n",
       "\\end{tabular}\n"
      ],
      "text/markdown": [
       "\n",
       "| <!--/--> | -2 log LR | df | p |\n",
       "|---|---|---|---|\n",
       "| cav.pci.msm | 48.6895      | 7            | 2.609964e-08 |\n",
       "\n"
      ],
      "text/plain": [
       "            -2 log LR df p           \n",
       "cav.pci.msm 48.6895   7  2.609964e-08"
      ]
     },
     "metadata": {},
     "output_type": "display_data"
    }
   ],
   "source": [
    "# Fitting a model where all intensities change 5 years after transplantation\n",
    "# Divides data into 2 time periods: -Inf to 5 yrs, and 5 yrs to Inf\n",
    "\n",
    "cav.pci.msm <- msm(state ~ years, subject = PTNUM, data = cav, qmatrix = twoway4.q, \n",
    "                   death = 4, pci = 5, method = \"BFGS\")\n",
    "\n",
    "# Is this data truly time-inhomogenous?\n",
    "lrtest.msm(cav.msm, cav.pci.msm)"
   ]
  },
  {
   "cell_type": "markdown",
   "id": "fde3bcab",
   "metadata": {},
   "source": [
    "It is very likely that the data is time-inhomogenous."
   ]
  },
  {
   "cell_type": "code",
   "execution_count": 12,
   "id": "126de076",
   "metadata": {},
   "outputs": [
    {
     "data": {
      "text/html": [
       "<strong>$`timeperiod[5,Inf)`</strong> = <table>\n",
       "<thead><tr><th></th><th scope=col>HR</th><th scope=col>L</th><th scope=col>U</th></tr></thead>\n",
       "<tbody>\n",
       "\t<tr><th scope=row>Well - Mild</th><td> 2.2079750 </td><td>1.6417953  </td><td>   2.969404</td></tr>\n",
       "\t<tr><th scope=row>Well - Death</th><td> 0.6717832 </td><td>0.2475004  </td><td>   1.823402</td></tr>\n",
       "\t<tr><th scope=row>Mild - Well</th><td> 0.6635648 </td><td>0.3582460  </td><td>   1.229095</td></tr>\n",
       "\t<tr><th scope=row>Mild - Severe</th><td> 0.9167601 </td><td>0.5749189  </td><td>   1.461857</td></tr>\n",
       "\t<tr><th scope=row>Mild - Death</th><td>12.9098844 </td><td>0.1402478  </td><td>1188.361304</td></tr>\n",
       "\t<tr><th scope=row>Severe - Mild</th><td> 1.4255951 </td><td>0.4754527  </td><td>   4.274498</td></tr>\n",
       "\t<tr><th scope=row>Severe - Death</th><td> 1.6829959 </td><td>0.8472465  </td><td>   3.343154</td></tr>\n",
       "</tbody>\n",
       "</table>\n"
      ],
      "text/latex": [
       "\\textbf{\\$`timeperiod{[}5,Inf)`} = \\begin{tabular}{r|lll}\n",
       "  & HR & L & U\\\\\n",
       "\\hline\n",
       "\tWell - Mild &  2.2079750  & 1.6417953   &    2.969404\\\\\n",
       "\tWell - Death &  0.6717832  & 0.2475004   &    1.823402\\\\\n",
       "\tMild - Well &  0.6635648  & 0.3582460   &    1.229095\\\\\n",
       "\tMild - Severe &  0.9167601  & 0.5749189   &    1.461857\\\\\n",
       "\tMild - Death & 12.9098844  & 0.1402478   & 1188.361304\\\\\n",
       "\tSevere - Mild &  1.4255951  & 0.4754527   &    4.274498\\\\\n",
       "\tSevere - Death &  1.6829959  & 0.8472465   &    3.343154\\\\\n",
       "\\end{tabular}\n"
      ],
      "text/markdown": [
       "**$`timeperiod[5,Inf)`** = \n",
       "| <!--/--> | HR | L | U |\n",
       "|---|---|---|---|\n",
       "| Well - Mild |  2.2079750  | 1.6417953   |    2.969404 |\n",
       "| Well - Death |  0.6717832  | 0.2475004   |    1.823402 |\n",
       "| Mild - Well |  0.6635648  | 0.3582460   |    1.229095 |\n",
       "| Mild - Severe |  0.9167601  | 0.5749189   |    1.461857 |\n",
       "| Mild - Death | 12.9098844  | 0.1402478   | 1188.361304 |\n",
       "| Severe - Mild |  1.4255951  | 0.4754527   |    4.274498 |\n",
       "| Severe - Death |  1.6829959  | 0.8472465   |    3.343154 |\n",
       "\n"
      ],
      "text/plain": [
       "$`timeperiod[5,Inf)`\n",
       "                       HR         L           U\n",
       "Well - Mild     2.2079750 1.6417953    2.969404\n",
       "Well - Death    0.6717832 0.2475004    1.823402\n",
       "Mild - Well     0.6635648 0.3582460    1.229095\n",
       "Mild - Severe   0.9167601 0.5749189    1.461857\n",
       "Mild - Death   12.9098844 0.1402478 1188.361304\n",
       "Severe - Mild   1.4255951 0.4754527    4.274498\n",
       "Severe - Death  1.6829959 0.8472465    3.343154\n"
      ]
     },
     "metadata": {},
     "output_type": "display_data"
    }
   ],
   "source": [
    "hazard.msm(cav.pci.msm)"
   ]
  },
  {
   "cell_type": "markdown",
   "id": "66bde6e6",
   "metadata": {},
   "source": [
    "There is an increased onset rate of Mild CAV in the second period, but no significant impact of time on the other transitions (all HR CIs cross 1). "
   ]
  },
  {
   "cell_type": "markdown",
   "id": "63411a85",
   "metadata": {},
   "source": [
    "## Dealing with Censored Patients\n",
    "\n",
    "Fitting the model where state = 99 indicates the patient is alive, but in an unknown state (other than 4)"
   ]
  },
  {
   "cell_type": "code",
   "execution_count": 13,
   "id": "c23d4f06",
   "metadata": {},
   "outputs": [
    {
     "name": "stderr",
     "output_type": "stream",
     "text": [
      "Warning message in msm.check.state(qmodel$nstates, mf$\"(state)\", cmodel$censor, :\n",
      "“State vector doesn't contain observations of 99”"
     ]
    },
    {
     "data": {
      "text/plain": [
       "\n",
       "Call:\n",
       "msm(formula = state ~ years, subject = PTNUM, data = cav, qmatrix = twoway4.q,     death = TRUE, censor = 99, censor.states = c(1, 2, 3))\n",
       "\n",
       "Maximum likelihood estimates\n",
       "\n",
       "Transition intensities\n",
       "                Baseline                   \n",
       "Well - Well     -0.17165 (-0.19178,-0.1536)\n",
       "Well - Mild      0.12920 ( 0.11246, 0.1484)\n",
       "Well - Death     0.04245 ( 0.03400, 0.0530)\n",
       "Mild - Well      0.22643 ( 0.16852, 0.3042)\n",
       "Mild - Mild     -0.60964 (-0.71100,-0.5227)\n",
       "Mild - Severe    0.34180 ( 0.27243, 0.4288)\n",
       "Mild - Death     0.04141 ( 0.01200, 0.1429)\n",
       "Severe - Mild    0.13114 ( 0.07982, 0.2155)\n",
       "Severe - Severe -0.43572 (-0.55162,-0.3442)\n",
       "Severe - Death   0.30458 ( 0.23645, 0.3923)\n",
       "\n",
       "-2 * log-likelihood:  3944.812 \n",
       "[Note, to obtain old print format, use \"printold.msm\"]"
      ]
     },
     "metadata": {},
     "output_type": "display_data"
    }
   ],
   "source": [
    "# This is how it is fitted, but there's no change in results because no patients in the toy data \n",
    "# set are censored.\n",
    "cav.msm.censored <- msm(state ~ years, subject = PTNUM, data = cav, qmatrix = twoway4.q, death = TRUE, \n",
    "                       censor = 99, censor.states = c(1, 2, 3))\n",
    "\n",
    "cav.msm.censored"
   ]
  },
  {
   "cell_type": "markdown",
   "id": "090350dc",
   "metadata": {},
   "source": [
    "## Diagnostic Plots\n",
    "\n",
    "Comparing model predictions with Kaplan-Meier curves"
   ]
  },
  {
   "cell_type": "code",
   "execution_count": 14,
   "id": "9fb1659f",
   "metadata": {},
   "outputs": [
    {
     "data": {
      "image/png": "[encoded data removed]",
      "text/plain": [
       "Plot with title “(5, 10 year change points)”"
      ]
     },
     "metadata": {},
     "output_type": "display_data"
    }
   ],
   "source": [
    "par(mfrow = c(2, 2))\n",
    "plot.survfit.msm(cav.msm, main = \"cav.msm: no covariates\", mark.time = FALSE)\n",
    "plot.survfit.msm(cav.cov.msm, main = \"cav.cov.msm: covariates\", mark.time = FALSE)\n",
    "plot.survfit.msm(cav.pci.msm, mark.time = FALSE)\n",
    "title(\"cav.pci.msm: time-inhomogeneous\", line = 2)\n",
    "title(\"(5 year change point)\", line = 1)\n",
    "cav.pci2.msm <- msm(state ~ years, subject = PTNUM, data = cav, qmatrix = twoway4.q, death = 4, pci = c(5, 10), \n",
    "                   method = \"BFGS\", control = list(maxit = 10000))\n",
    "plot.survfit.msm(cav.pci2.msm, mark.time = FALSE)\n",
    "title(\"cav.pci2.msm: time-inhomogeneous\", line = 2)\n",
    "title(\"(5, 10 year change points)\", line = 1)"
   ]
  },
  {
   "cell_type": "markdown",
   "id": "8e3eb251",
   "metadata": {},
   "source": [
    "Up to about 10 years, the models do a reasonable job of predicting survival.  However, the second time-inhomogeneous model, fitted for intensity changes at 5 and 10 years, fits substantially better because the other models over-estimate survival after 10 years."
   ]
  },
  {
   "cell_type": "markdown",
   "id": "7d5d9dab",
   "metadata": {},
   "source": [
    "## Comparing Observed and Expected Prevalence\n",
    "\n",
    "Works best when individuals are actually observed at the computed times, otherwise assumptions are made such as individuals are only observed at these times, or midpoints are assumed.\n",
    "\n",
    "The observed prevalence of a state is simply calculated as the number of individuals known to be in that state, divided by the number of individuals whose state is known at that time, which ignores the information from individuals censored at earlier times (root of Kaplan-Meier estimation :))"
   ]
  },
  {
   "cell_type": "code",
   "execution_count": 15,
   "id": "52df4d72",
   "metadata": {},
   "outputs": [],
   "source": [
    "# Need to look at how this is implemented by Gentleman et al. 1994 using prevalence.msm, and plot.prevalence.msm"
   ]
  },
  {
   "cell_type": "markdown",
   "id": "8eeac4ed",
   "metadata": {},
   "source": [
    "## Pearson testing\n",
    "\n",
    "Aguirre-Hernandez and Farewell (2002)\n",
    "\n",
    "Titman and Sharples (2008)\n",
    "\n",
    "Uses a Chi-square approximation even though often doesn't fit exactly.  Recommended to reduce the number of observation times, time intervals or covariate categories to improve Chi-square approximation especially with a sparse contingency table."
   ]
  },
  {
   "cell_type": "code",
   "execution_count": 16,
   "id": "88c79c10",
   "metadata": {},
   "outputs": [
    {
     "name": "stdout",
     "output_type": "stream",
     "text": [
      "Imputing sampling times after deaths...\n",
      "Calculating replicates of test statistics for imputations...\n"
     ]
    },
    {
     "data": {
      "text/html": [
       "<table>\n",
       "<thead><tr><th scope=col>stat</th><th scope=col>df.lower</th><th scope=col>p.lower</th><th scope=col>df.upper</th><th scope=col>p.upper</th></tr></thead>\n",
       "<tbody>\n",
       "\t<tr><td>166.9542    </td><td>NA          </td><td>NA          </td><td>81          </td><td>6.444851e-08</td></tr>\n",
       "</tbody>\n",
       "</table>\n"
      ],
      "text/latex": [
       "\\begin{tabular}{r|lllll}\n",
       " stat & df.lower & p.lower & df.upper & p.upper\\\\\n",
       "\\hline\n",
       "\t 166.9542     & NA           & NA           & 81           & 6.444851e-08\\\\\n",
       "\\end{tabular}\n"
      ],
      "text/markdown": [
       "\n",
       "| stat | df.lower | p.lower | df.upper | p.upper |\n",
       "|---|---|---|---|---|\n",
       "| 166.9542     | NA           | NA           | 81           | 6.444851e-08 |\n",
       "\n"
      ],
      "text/plain": [
       " stat     df.lower p.lower df.upper p.upper     \n",
       " 166.9542 NA       NA      81       6.444851e-08"
      ]
     },
     "metadata": {},
     "output_type": "display_data"
    }
   ],
   "source": [
    "p1 <- pearson.msm(cav.msm)\n",
    "p1$test\n"
   ]
  },
  {
   "cell_type": "code",
   "execution_count": 17,
   "id": "4956d0d0",
   "metadata": {},
   "outputs": [
    {
     "name": "stdout",
     "output_type": "stream",
     "text": [
      "Imputing sampling times after deaths...\n",
      "Calculating replicates of test statistics for imputations...\n"
     ]
    },
    {
     "data": {
      "text/html": [
       "<table>\n",
       "<thead><tr><th scope=col>stat</th><th scope=col>df.lower</th><th scope=col>p.lower</th><th scope=col>df.upper</th><th scope=col>p.upper</th></tr></thead>\n",
       "<tbody>\n",
       "\t<tr><td>302.8504   </td><td>NA         </td><td>NA         </td><td>237        </td><td>0.002457122</td></tr>\n",
       "</tbody>\n",
       "</table>\n"
      ],
      "text/latex": [
       "\\begin{tabular}{r|lllll}\n",
       " stat & df.lower & p.lower & df.upper & p.upper\\\\\n",
       "\\hline\n",
       "\t 302.8504    & NA          & NA          & 237         & 0.002457122\\\\\n",
       "\\end{tabular}\n"
      ],
      "text/markdown": [
       "\n",
       "| stat | df.lower | p.lower | df.upper | p.upper |\n",
       "|---|---|---|---|---|\n",
       "| 302.8504    | NA          | NA          | 237         | 0.002457122 |\n",
       "\n"
      ],
      "text/plain": [
       " stat     df.lower p.lower df.upper p.upper    \n",
       " 302.8504 NA       NA      237      0.002457122"
      ]
     },
     "metadata": {},
     "output_type": "display_data"
    }
   ],
   "source": [
    "p2 <- pearson.msm(cav.cov.msm)\n",
    "p2$test\n"
   ]
  },
  {
   "cell_type": "code",
   "execution_count": 18,
   "id": "d06de92a",
   "metadata": {},
   "outputs": [
    {
     "name": "stderr",
     "output_type": "stream",
     "text": [
      "Warning message in pearson.msm(cav.pci.msm):\n",
      "“Omitting censored states not at the end of individual series”"
     ]
    },
    {
     "name": "stdout",
     "output_type": "stream",
     "text": [
      "Imputing sampling times after deaths...\n",
      "Calculating replicates of test statistics for imputations...\n"
     ]
    },
    {
     "data": {
      "text/html": [
       "<table>\n",
       "<thead><tr><th scope=col>stat</th><th scope=col>df.lower</th><th scope=col>p.lower</th><th scope=col>df.upper</th><th scope=col>p.upper</th></tr></thead>\n",
       "<tbody>\n",
       "\t<tr><td>161.6173    </td><td>NA          </td><td>NA          </td><td>81          </td><td>2.647557e-07</td></tr>\n",
       "</tbody>\n",
       "</table>\n"
      ],
      "text/latex": [
       "\\begin{tabular}{r|lllll}\n",
       " stat & df.lower & p.lower & df.upper & p.upper\\\\\n",
       "\\hline\n",
       "\t 161.6173     & NA           & NA           & 81           & 2.647557e-07\\\\\n",
       "\\end{tabular}\n"
      ],
      "text/markdown": [
       "\n",
       "| stat | df.lower | p.lower | df.upper | p.upper |\n",
       "|---|---|---|---|---|\n",
       "| 161.6173     | NA           | NA           | 81           | 2.647557e-07 |\n",
       "\n"
      ],
      "text/plain": [
       " stat     df.lower p.lower df.upper p.upper     \n",
       " 161.6173 NA       NA      81       2.647557e-07"
      ]
     },
     "metadata": {},
     "output_type": "display_data"
    }
   ],
   "source": [
    "p3 <- pearson.msm(cav.pci.msm)\n",
    "p3$test"
   ]
  },
  {
   "cell_type": "code",
   "execution_count": 19,
   "id": "9bbc7f19",
   "metadata": {},
   "outputs": [
    {
     "name": "stderr",
     "output_type": "stream",
     "text": [
      "Warning message in pearson.msm(cav.pci2.msm):\n",
      "“Omitting censored states not at the end of individual series”"
     ]
    },
    {
     "name": "stdout",
     "output_type": "stream",
     "text": [
      "Imputing sampling times after deaths...\n",
      "Calculating replicates of test statistics for imputations...\n"
     ]
    },
    {
     "data": {
      "text/html": [
       "<table>\n",
       "<thead><tr><th scope=col>stat</th><th scope=col>df.lower</th><th scope=col>p.lower</th><th scope=col>df.upper</th><th scope=col>p.upper</th></tr></thead>\n",
       "<tbody>\n",
       "\t<tr><td>150.2663    </td><td>NA          </td><td>NA          </td><td>81          </td><td>4.657213e-06</td></tr>\n",
       "</tbody>\n",
       "</table>\n"
      ],
      "text/latex": [
       "\\begin{tabular}{r|lllll}\n",
       " stat & df.lower & p.lower & df.upper & p.upper\\\\\n",
       "\\hline\n",
       "\t 150.2663     & NA           & NA           & 81           & 4.657213e-06\\\\\n",
       "\\end{tabular}\n"
      ],
      "text/markdown": [
       "\n",
       "| stat | df.lower | p.lower | df.upper | p.upper |\n",
       "|---|---|---|---|---|\n",
       "| 150.2663     | NA           | NA           | 81           | 4.657213e-06 |\n",
       "\n"
      ],
      "text/plain": [
       " stat     df.lower p.lower df.upper p.upper     \n",
       " 150.2663 NA       NA      81       4.657213e-06"
      ]
     },
     "metadata": {},
     "output_type": "display_data"
    }
   ],
   "source": [
    "p4 <- pearson.msm(cav.pci2.msm)\n",
    "p4$test"
   ]
  },
  {
   "cell_type": "markdown",
   "id": "4c40104b",
   "metadata": {},
   "source": [
    "## None of these models give an adequate fit\n",
    "\n",
    "While cav.pci2.msm fits well to survival, it discriminates less well between the states of CAV severity.  \n",
    "\n",
    "A more complex pattern of time-dependence or allowing transition intensities to depend on covariates would likely yield a better fit."
   ]
  },
  {
   "cell_type": "markdown",
   "id": "8dcd6daa",
   "metadata": {},
   "source": [
    "## It is also possible to calculate the influence of each individual on the MLE\n",
    "\n",
    "Using scoreresid.msm"
   ]
  },
  {
   "cell_type": "markdown",
   "id": "cb36a095",
   "metadata": {},
   "source": [
    "## Extensions of msm and limitations\n",
    "\n",
    "For continuously-observed processes: mstate (deWreede et al. 2010)\n",
    "\n",
    "For Random Effects models (unexplained heterogeneity in transition intensities between individuals) - calculating likelihood often intractable with a few exceptions: tracking model - random effect acts on all intensities simultaneously (Satten 1999), or a discrete random effects distribution (Cook et al 2004)"
   ]
  },
  {
   "cell_type": "code",
   "execution_count": null,
   "id": "2f788f1b",
   "metadata": {},
   "outputs": [],
   "source": []
  }
 ],
 "metadata": {
  "kernelspec": {
   "display_name": "R",
   "language": "R",
   "name": "ir"
  },
  "language_info": {
   "codemirror_mode": "r",
   "file_extension": ".r",
   "mimetype": "text/x-r-source",
   "name": "R",
   "pygments_lexer": "r",
   "version": "3.6.1"
  }
 },
 "nbformat": 4,
 "nbformat_minor": 5
}
